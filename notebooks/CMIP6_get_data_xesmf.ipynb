{
 "cells": [
  {
   "cell_type": "markdown",
   "metadata": {
    "colab_type": "text",
    "id": "view-in-github"
   },
   "source": [
    "<a href=\"https://colab.research.google.com/github/benmsanderson/prpattern/blob/main/CMIP6_get_data.ipynb\" target=\"_parent\"><img src=\"https://colab.research.google.com/assets/colab-badge.svg\" alt=\"Open In Colab\"/></a>"
   ]
  },
  {
   "cell_type": "markdown",
   "metadata": {
    "id": "ibGzDNElOzhq"
   },
   "source": [
    "# 4xCO2 read data\n",
    "\n",
    "\n",
    "CMIP6"
   ]
  },
  {
   "cell_type": "code",
   "execution_count": 39,
   "metadata": {},
   "outputs": [],
   "source": [
    "src=['CESM2','CanESM5']"
   ]
  },
  {
   "cell_type": "code",
   "execution_count": 8,
   "metadata": {
    "id": "bcDSbcN5kp-o"
   },
   "outputs": [],
   "source": [
    "flds=['tas']"
   ]
  },
  {
   "cell_type": "code",
   "execution_count": 113,
   "metadata": {},
   "outputs": [],
   "source": [
    "datadir='./download'\n",
    "import os\n",
    "if not os.path.exists(datadir):\n",
    "    os.makedirs(datadir)"
   ]
  },
  {
   "cell_type": "code",
   "execution_count": 12,
   "metadata": {},
   "outputs": [],
   "source": [
    "expts=['1pctCO2','abrupt-4xCO2','piControl','historical','ssp126','ssp585']\n",
    "calstrt=[True,True,True,False,False,False]\n",
    "dbe=['CMIP','CMIP','CMIP','CMIP','ScenarioMIP','ScenarioMIP']"
   ]
  },
  {
   "cell_type": "code",
   "execution_count": 3,
   "metadata": {},
   "outputs": [],
   "source": [
    "import xarray as xr\n",
    "import xesmf as xe\n",
    "import numpy as np"
   ]
  },
  {
   "cell_type": "code",
   "execution_count": 75,
   "metadata": {
    "colab": {
     "base_uri": "https://localhost:8080/"
    },
    "id": "aH3VEYX-Ozht",
    "outputId": "2915f3da-4470-4b3d-99cd-d395878b9e8b"
   },
   "outputs": [],
   "source": [
    "from matplotlib import pyplot as plt\n",
    "import numpy as np\n",
    "import pandas as pd\n",
    "import xarray as xr\n",
    "import zarr\n",
    "from netCDF4 import num2date\n",
    "import gcsfs\n",
    "import cftime\n",
    "from itertools import product\n",
    "\n"
   ]
  },
  {
   "cell_type": "markdown",
   "metadata": {},
   "source": [
    "Define output resolution"
   ]
  },
  {
   "cell_type": "code",
   "execution_count": 22,
   "metadata": {
    "id": "wJe1cbeujNAt"
   },
   "outputs": [],
   "source": [
    "ds_out = xe.util.grid_2d(-180.0, 180.0, 2.5, -90.0, 90.0, 2.5)"
   ]
  },
  {
   "cell_type": "markdown",
   "metadata": {
    "id": "ss9_lR75Ozhz"
   },
   "source": [
    "## Browse Catalog\n",
    "\n",
    "The data catatalog is stored as a CSV file. Here we read it with Pandas."
   ]
  },
  {
   "cell_type": "code",
   "execution_count": 37,
   "metadata": {
    "id": "PCXMl4MxOzh0"
   },
   "outputs": [],
   "source": [
    "df = pd.read_csv('https://storage.googleapis.com/cmip6/cmip6-zarr-consolidated-stores.csv', low_memory=False)"
   ]
  },
  {
   "cell_type": "markdown",
   "metadata": {
    "id": "ZBx9e0yoOzh4"
   },
   "source": [
    "Variables and experiments in database"
   ]
  },
  {
   "cell_type": "markdown",
   "metadata": {
    "id": "T0VMdjW1iDci"
   },
   "source": [
    "Make dataframe for each experiment type and each field"
   ]
  },
  {
   "cell_type": "code",
   "execution_count": 38,
   "metadata": {
    "id": "63MbtACruzl0"
   },
   "outputs": [
    {
     "data": {
      "text/plain": [
       "array(['ACCESS-CM2', 'ACCESS-ESM1-5', 'AWI-CM-1-1-MR', 'AWI-ESM-1-1-LR',\n",
       "       'BCC-CSM2-HR', 'BCC-CSM2-MR', 'BCC-ESM1', 'CAMS-CSM1-0',\n",
       "       'CAS-ESM2-0', 'CESM1-1-CAM5-CMIP5', 'CESM1-WACCM-SC', 'CESM2',\n",
       "       'CESM2-FV2', 'CESM2-WACCM', 'CESM2-WACCM-FV2', 'CIESM',\n",
       "       'CMCC-CM2-HR4', 'CMCC-CM2-SR5', 'CMCC-CM2-VHR4', 'CMCC-ESM2',\n",
       "       'CNRM-CM6-1', 'CNRM-CM6-1-HR', 'CNRM-ESM2-1', 'CanESM5',\n",
       "       'CanESM5-CanOE', 'E3SM-1-0', 'E3SM-1-1', 'E3SM-1-1-ECA',\n",
       "       'EC-Earth3', 'EC-Earth3-AerChem', 'EC-Earth3-CC', 'EC-Earth3-LR',\n",
       "       'EC-Earth3-Veg', 'EC-Earth3-Veg-LR', 'EC-Earth3P', 'EC-Earth3P-HR',\n",
       "       'EC-Earth3P-VHR', 'ECMWF-IFS-HR', 'ECMWF-IFS-LR', 'FGOALS-f3-H',\n",
       "       'FGOALS-f3-L', 'FGOALS-g3', 'FIO-ESM-2-0', 'GFDL-AM4', 'GFDL-CM4',\n",
       "       'GFDL-CM4C192', 'GFDL-ESM2M', 'GFDL-ESM4', 'GFDL-OM4p5B',\n",
       "       'GISS-E2-1-G', 'GISS-E2-1-G-CC', 'GISS-E2-1-H', 'GISS-E2-2-G',\n",
       "       'GISS-E2-2-H', 'HadGEM3-GC31-HM', 'HadGEM3-GC31-LL',\n",
       "       'HadGEM3-GC31-LM', 'HadGEM3-GC31-MM', 'ICON-ESM-LR', 'IITM-ESM',\n",
       "       'INM-CM4-8', 'INM-CM5-0', 'INM-CM5-H', 'IPSL-CM5A2-INCA',\n",
       "       'IPSL-CM6A-ATM-HR', 'IPSL-CM6A-LR', 'IPSL-CM6A-LR-INCA',\n",
       "       'KACE-1-0-G', 'KIOST-ESM', 'MCM-UA-1-0', 'MIROC-ES2H',\n",
       "       'MIROC-ES2L', 'MIROC6', 'MPI-ESM-1-2-HAM', 'MPI-ESM1-2-HR',\n",
       "       'MPI-ESM1-2-LR', 'MPI-ESM1-2-XR', 'MRI-AGCM3-2-H', 'MRI-AGCM3-2-S',\n",
       "       'MRI-ESM2-0', 'NESM3', 'NorCPM1', 'NorESM1-F', 'NorESM2-LM',\n",
       "       'NorESM2-MM', 'SAM0-UNICON', 'TaiESM1', 'UKESM1-0-LL'],\n",
       "      dtype=object)"
      ]
     },
     "execution_count": 38,
     "metadata": {},
     "output_type": "execute_result"
    }
   ],
   "source": [
    "vars=df.variable_id.unique()\n",
    "vars.sort()\n",
    "\n",
    "expts_full=df.experiment_id.unique()\n",
    "expts_full.sort()\n",
    "\n",
    "flds_full=df.variable_id.unique()\n",
    "flds_full.sort()\n",
    "\n",
    "src_full=df.source_id.unique()\n",
    "src_full.sort()\n",
    "src_full"
   ]
  },
  {
   "cell_type": "code",
   "execution_count": 13,
   "metadata": {
    "id": "7CtTfLX4l55-"
   },
   "outputs": [],
   "source": [
    "df_all1=[]\n",
    "for i, row in enumerate(expts):\n",
    "  df_ta1=[]\n",
    "  for j,fld in enumerate(flds):\n",
    "    tmp = df.query(\"activity_id=='\"+dbe[i]+\"' & table_id == 'Amon' & variable_id == '\"+fld+\"' & experiment_id == '\"+expts[i]+\"'\")\n",
    "    df_ta1.append(tmp)\n",
    "  df_all1.append(df_ta1)"
   ]
  },
  {
   "cell_type": "markdown",
   "metadata": {
    "id": "3icBRk1HoVBy"
   },
   "source": [
    "Make some empty dataframes to store concise list"
   ]
  },
  {
   "cell_type": "code",
   "execution_count": 14,
   "metadata": {
    "id": "ioN3qmZGoSCF"
   },
   "outputs": [],
   "source": [
    "cnames=df_all1[0][0].columns\n",
    "df_all=[]\n",
    "for i, exp in enumerate(expts):\n",
    "  tmp=[]\n",
    "  for j,fld  in enumerate(flds):\n",
    "    tmp.append(pd.DataFrame(columns=cnames))\n",
    "  df_all.append(tmp)"
   ]
  },
  {
   "cell_type": "markdown",
   "metadata": {
    "id": "quwfwHOnnz0O"
   },
   "source": [
    "Now get 1 ensemble member for each model, if it exists, for each experiment.  Only add to dataframe df_ta if we have a full set of experiments"
   ]
  },
  {
   "cell_type": "code",
   "execution_count": 40,
   "metadata": {
    "id": "dSGZ2KhdSjAK"
   },
   "outputs": [
    {
     "data": {
      "text/plain": [
       "['CESM2', 'CanESM5']"
      ]
     },
     "execution_count": 40,
     "metadata": {},
     "output_type": "execute_result"
    }
   ],
   "source": [
    "mdls=[]\n",
    "n=0\n",
    "for j, mdl in enumerate(src):\n",
    "    tmpdf=[]\n",
    "    nruns=[]\n",
    "    for i, ext in enumerate(expts):\n",
    "        #find first variable for expt/model\n",
    "        for j, fld in enumerate(flds):\n",
    "          tmp=df_all1[i][j].query(\"source_id=='\"+mdl+\"'\")\n",
    "          nruns.append(tmp.shape[0])\n",
    "    #is there at least 1 run per experiment,with all fields?\n",
    "    if min(nruns)>=1:\n",
    "      #point to the entry for 1st run, first variable for each expt\n",
    "      for i, ext in enumerate(expts):\n",
    "        mmb=df_all1[i][0]['member_id'].values[0]\n",
    "        for j, fld in enumerate(flds):\n",
    "          tt = df_all1[i][j].query(\"source_id=='\"+mdl+\"' & table_id == 'Amon'\")\n",
    "          df_all[i][j].loc[n]=tt.values[0]\n",
    "      #add model to final list\n",
    "      mdls.append(mdl)\n",
    "      n=n+1\n",
    "    else:\n",
    "        print(mdl+' does not have all required simulations')\n",
    "mdls\n",
    "    "
   ]
  },
  {
   "cell_type": "markdown",
   "metadata": {
    "id": "ba_I8sSUOzh_"
   },
   "source": [
    "## Load Data\n",
    "\n",
    "Load Google file system\n"
   ]
  },
  {
   "cell_type": "code",
   "execution_count": 18,
   "metadata": {
    "id": "Pgaz1EanjJ9Z"
   },
   "outputs": [],
   "source": [
    "# load Google cloud storage\n",
    "gcs = gcsfs.GCSFileSystem(token='anon')"
   ]
  },
  {
   "cell_type": "markdown",
   "metadata": {
    "id": "t4wZnv7uLSin"
   },
   "source": [
    "Loop through zstore links, use zarr to open\n"
   ]
  },
  {
   "cell_type": "code",
   "execution_count": 42,
   "metadata": {
    "colab": {
     "base_uri": "https://localhost:8080/",
     "height": 451
    },
    "id": "zGB4t5rGLmqf",
    "outputId": "5dca02ab-bfb9-4265-bd7e-f11c5750f1c5"
   },
   "outputs": [
    {
     "name": "stdout",
     "output_type": "stream",
     "text": [
      "1pctCO2,tas\n",
      "abrupt-4xCO2,tas\n",
      "piControl,tas\n",
      "historical,tas\n",
      "ssp126,tas\n",
      "ssp585,tas\n"
     ]
    }
   ],
   "source": [
    "\n",
    "if readdata:\n",
    "  dsall=[]\n",
    "  for i,df_ta in enumerate(df_all):\n",
    "\n",
    "    dsm=[]\n",
    "    for j,df in enumerate(df_ta):\n",
    "      ds=[]\n",
    "      print(expts[i]+','+flds[j])\n",
    "      for index, item in enumerate(df.zstore.values, start=0):\n",
    "        mapper=gcs.get_mapper(item)\n",
    "        ds.append(xr.open_zarr(mapper, decode_times=False))\n",
    "      dsm.append(ds)\n",
    "    dsall.append(dsm)  "
   ]
  },
  {
   "cell_type": "markdown",
   "metadata": {
    "id": "FJa7zj5MHbDX"
   },
   "source": [
    "concatenated dataarrays for ts, global mean\n"
   ]
  },
  {
   "cell_type": "code",
   "execution_count": 109,
   "metadata": {
    "colab": {
     "base_uri": "https://localhost:8080/",
     "height": 729
    },
    "id": "nWZFFT8fNoVB",
    "outputId": "f74dc2ec-da2a-4105-b29a-4cc0622d0a9a"
   },
   "outputs": [
    {
     "name": "stdout",
     "output_type": "stream",
     "text": [
      "1pctCO2,tas\n",
      "abrupt-4xCO2,tas\n",
      "piControl,tas\n",
      "historical,tas\n",
      "ssp126,tas\n",
      "ssp585,tas\n"
     ]
    }
   ],
   "source": [
    " \n",
    "if readdata:\n",
    "  dall=[]\n",
    "  for i,ds in enumerate(dsall,start=0):\n",
    "    dexp=[]\n",
    "    for j,dm in enumerate(ds):\n",
    "      print(expts[i]+','+flds[j])\n",
    "      srcls=[]  \n",
    "      for index, dd in enumerate(dm, start=0):\n",
    "          regridder = xe.Regridder(dd, ds_out, 'bilinear', periodic=True)\n",
    "          #tmp=dd[flds[j]][:4800,:,:].interp(lon=lon_out,lat=lat_out, kwargs={\"fill_value\": \"extrapolate\"})\n",
    "          tmp = regridder(dd)\n",
    "          if calstrt[i]:\n",
    "            dates = [cftime.DatetimeNoLeap(year, month, 1) for year, month in product(range(0, int(tmp['time'].values.shape[0]/12)), range(1, 13))]\n",
    "            tmp.coords['time']=dates\n",
    "          if tmp['time'].dtype=='float64' or  tmp['time'].dtype=='int64':\n",
    "            tmp.coords['time']=num2date(tmp['time'].values,dd['time'].units)     \n",
    "          srm=tmp.groupby('time.year').mean('time')\n",
    "          \n",
    "          if index==0:\n",
    "            dac=srm\n",
    "          else:\n",
    "            dac=xr.concat([dac,srm],'ens',coords='minimal',compat='override')\n",
    "          srcls.append(dd.source_id)\n",
    "      dac=dac.assign_coords(ens=srcls)   \n",
    "      dexp.append(dac)\n",
    "    dall.append(dexp)"
   ]
  },
  {
   "cell_type": "markdown",
   "metadata": {
    "id": "QdGXa2hCp6tD"
   },
   "source": [
    "Find complete runs\n",
    "\n",
    "\n"
   ]
  },
  {
   "cell_type": "code",
   "execution_count": 114,
   "metadata": {
    "colab": {
     "background_save": true,
     "base_uri": "https://localhost:8080/",
     "height": 278
    },
    "id": "Q2AYLtYelCCY",
    "outputId": "04da2d9a-f14b-44aa-d693-a9f331a85861"
   },
   "outputs": [],
   "source": [
    "\n",
    "if readdata:\n",
    "  for i,d in enumerate(dall,start=0):\n",
    "    tmp=xr.merge(d[:])\n",
    "    tmp.to_netcdf(datadir+'/'+expts[i]+'.nc')\n",
    "\n"
   ]
  },
  {
   "cell_type": "code",
   "execution_count": 121,
   "metadata": {},
   "outputs": [
    {
     "data": {
      "text/plain": [
       "<matplotlib.collections.QuadMesh at 0x7fa674275dd0>"
      ]
     },
     "execution_count": 121,
     "metadata": {},
     "output_type": "execute_result"
    },
    {
     "data": {
      "image/png": "[encoded data removed]",
      "text/plain": [
       "<Figure size 432x288 with 2 Axes>"
      ]
     },
     "metadata": {
      "needs_background": "light"
     },
     "output_type": "display_data"
    }
   ],
   "source": [
    "tmp['tas'][0,1,:,:].plot()"
   ]
  }
 ],
 "metadata": {
  "colab": {
   "collapsed_sections": [],
   "include_colab_link": true,
   "machine_shape": "hm",
   "name": "CMIP6 get data.ipynb",
   "provenance": []
  },
  "kernelspec": {
   "display_name": "Python 3 (ipykernel)",
   "language": "python",
   "name": "python3"
  },
  "language_info": {
   "codemirror_mode": {
    "name": "ipython",
    "version": 3
   },
   "file_extension": ".py",
   "mimetype": "text/x-python",
   "name": "python",
   "nbconvert_exporter": "python",
   "pygments_lexer": "ipython3",
   "version": "3.7.13"
  }
 },
 "nbformat": 4,
 "nbformat_minor": 1
}
