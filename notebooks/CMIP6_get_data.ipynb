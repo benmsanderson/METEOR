{
 "cells": [
  {
   "cell_type": "markdown",
   "metadata": {
    "colab_type": "text",
    "id": "view-in-github"
   },
   "source": [
    "<a href=\"https://colab.research.google.com/github/benmsanderson/prpattern/blob/main/CMIP6_get_data.ipynb\" target=\"_parent\"><img src=\"https://colab.research.google.com/assets/colab-badge.svg\" alt=\"Open In Colab\"/></a>"
   ]
  },
  {
   "cell_type": "markdown",
   "metadata": {
    "id": "ibGzDNElOzhq"
   },
   "source": [
    "# 4xCO2 read data\n",
    "\n",
    "\n",
    "CMIP6"
   ]
  },
  {
   "cell_type": "code",
   "execution_count": 1,
   "metadata": {},
   "outputs": [],
   "source": [
    "src=['CESM2','CESM3']"
   ]
  },
  {
   "cell_type": "code",
   "execution_count": 2,
   "metadata": {},
   "outputs": [],
   "source": [
    "expts=['1pctCO2','abrupt-4xCO2','piControl','historical','ssp126','ssp585']\n",
    "calstrt=[True,True,True,False,False,False]\n",
    "dbe=['CMIP','CMIP','CMIP','CMIP','ScenarioMIP','ScenarioMIP']"
   ]
  },
  {
   "cell_type": "markdown",
   "metadata": {},
   "source": [
    "State resolution of emulator"
   ]
  },
  {
   "cell_type": "code",
   "execution_count": 5,
   "metadata": {
    "id": "wJe1cbeujNAt"
   },
   "outputs": [],
   "source": [
    "import numpy as np\n",
    "lon_out=np.arange(1,359,2)\n",
    "lat_out=np.arange(-89,89,2)\n",
    "lons_sub, lats_sub = np.meshgrid(lon_out,lat_out)"
   ]
  },
  {
   "cell_type": "code",
   "execution_count": 6,
   "metadata": {
    "id": "W4fTIkDuBj-I"
   },
   "outputs": [],
   "source": [
    "readdata=1\n",
    "authdrive=1"
   ]
  },
  {
   "cell_type": "code",
   "execution_count": 7,
   "metadata": {},
   "outputs": [],
   "source": [
    "datadir='/content/drive/MyDrive/colab_4xco2'"
   ]
  },
  {
   "cell_type": "markdown",
   "metadata": {
    "id": "r-32Yp_fz4Gz"
   },
   "source": [
    "Desired experiments"
   ]
  },
  {
   "cell_type": "code",
   "execution_count": 8,
   "metadata": {
    "id": "bcDSbcN5kp-o"
   },
   "outputs": [],
   "source": [
    "flds=['tas']"
   ]
  },
  {
   "cell_type": "markdown",
   "metadata": {
    "id": "Qg99d58j0JjT"
   },
   "source": [
    "Import stuff"
   ]
  },
  {
   "cell_type": "code",
   "execution_count": 10,
   "metadata": {
    "colab": {
     "base_uri": "https://localhost:8080/"
    },
    "id": "aH3VEYX-Ozht",
    "outputId": "2915f3da-4470-4b3d-99cd-d395878b9e8b"
   },
   "outputs": [
    {
     "name": "stderr",
     "output_type": "stream",
     "text": [
      "/home/sanderson/anaconda3/lib/python3.9/site-packages/xarray/backends/cfgrib_.py:27: UserWarning: Failed to load cfgrib - most likely there is a problem accessing the ecCodes library. Try `import cfgrib` to get the full error message\n",
      "  warnings.warn(\n"
     ]
    }
   ],
   "source": [
    "from matplotlib import pyplot as plt\n",
    "\n",
    "import numpy.matlib\n",
    "import pandas as pd\n",
    "import xarray as xr\n",
    "import zarr\n",
    "import gcsfs\n",
    "import pickle\n",
    "import cftime\n",
    "from sys import getsizeof\n",
    "from IPython.display import HTML, display\n",
    "import time\n"
   ]
  },
  {
   "cell_type": "markdown",
   "metadata": {
    "id": "ss9_lR75Ozhz"
   },
   "source": [
    "## Browse Catalog\n",
    "\n",
    "The data catatalog is stored as a CSV file. Here we read it with Pandas."
   ]
  },
  {
   "cell_type": "code",
   "execution_count": null,
   "metadata": {
    "id": "PCXMl4MxOzh0"
   },
   "outputs": [],
   "source": [
    "df = pd.read_csv('https://storage.googleapis.com/cmip6/cmip6-zarr-consolidated-stores.csv', low_memory=False)"
   ]
  },
  {
   "cell_type": "markdown",
   "metadata": {
    "id": "ZBx9e0yoOzh4"
   },
   "source": [
    "Variables and experiments in database"
   ]
  },
  {
   "cell_type": "markdown",
   "metadata": {
    "id": "T0VMdjW1iDci"
   },
   "source": [
    "Make dataframe for each experiment type and each field"
   ]
  },
  {
   "cell_type": "code",
   "execution_count": null,
   "metadata": {
    "id": "63MbtACruzl0"
   },
   "outputs": [],
   "source": [
    "vars=df.variable_id.unique()\n",
    "vars.sort()\n",
    "\n",
    "expts_full=df.experiment_id.unique()\n",
    "expts_full.sort()\n",
    "\n",
    "flds_full=df.variable_id.unique()\n",
    "flds_full.sort()\n",
    "\n",
    "src_full=df.variable_id.unique()\n",
    "src_full.sort()"
   ]
  },
  {
   "cell_type": "code",
   "execution_count": null,
   "metadata": {
    "id": "7CtTfLX4l55-"
   },
   "outputs": [],
   "source": [
    "df_all1=[]\n",
    "for i, row in enumerate(expts):\n",
    "  df_ta1=[]\n",
    "  for j,fld in enumerate(flds):\n",
    "    tmp = df.query(\"activity_id=='\"+dbe[i]+\"' & table_id == 'Amon' & variable_id == '\"+fld+\"' & experiment_id == '\"+expts[i]+\"'\")\n",
    "    df_ta1.append(tmp)\n",
    "  df_all1.append(df_ta1)"
   ]
  },
  {
   "cell_type": "markdown",
   "metadata": {
    "id": "3icBRk1HoVBy"
   },
   "source": [
    "Make some empty dataframes to store concise list"
   ]
  },
  {
   "cell_type": "code",
   "execution_count": null,
   "metadata": {
    "id": "ioN3qmZGoSCF"
   },
   "outputs": [],
   "source": [
    "cnames=df_all1[0][0].columns\n",
    "df_all=[]\n",
    "for i, exp in enumerate(expts):\n",
    "  tmp=[]\n",
    "  for j,fld  in enumerate(flds):\n",
    "    tmp.append(pd.DataFrame(columns=cnames))\n",
    "  df_all.append(tmp)"
   ]
  },
  {
   "cell_type": "markdown",
   "metadata": {
    "id": "quwfwHOnnz0O"
   },
   "source": [
    "Now get 1 ensemble member for each model, if it exists, for each experiment.  Only add to dataframe df_ta if we have a full set of experiments"
   ]
  },
  {
   "cell_type": "code",
   "execution_count": null,
   "metadata": {
    "id": "dSGZ2KhdSjAK"
   },
   "outputs": [],
   "source": [
    "mdls=[]\n",
    "n=0\n",
    "for j, mdl in enumerate(src):\n",
    "    tmpdf=[]\n",
    "    nruns=[]\n",
    "    for i, ext in enumerate(expts):\n",
    "        #find first variable for expt/model\n",
    "        for j, fld in enumerate(flds):\n",
    "          tmp=df_all1[i][j].query(\"source_id=='\"+mdl+\"'\")\n",
    "          nruns.append(tmp.shape[0])\n",
    "    #is there at least 1 run per experiment,with all fields?\n",
    "    if min(nruns)>=1:\n",
    "      #point to the entry for 1st run, first variable for each expt\n",
    "      for i, ext in enumerate(expts):\n",
    "        mmb=df_all1[i][0]['member_id'].values[0]\n",
    "        for j, fld in enumerate(flds):\n",
    "          tt = df_all1[i][j].query(\"source_id=='\"+mdl+\"' & table_id == 'Amon'\")\n",
    "          df_all[i][j].loc[n]=tt.values[0]\n",
    "      #add model to final list\n",
    "      mdls.append(mdl)\n",
    "      n=n+1\n",
    "    else:\n",
    "        print(mdl+' does not have all required simulations')\n",
    "mdls\n",
    "    "
   ]
  },
  {
   "cell_type": "markdown",
   "metadata": {
    "id": "ba_I8sSUOzh_"
   },
   "source": [
    "## Load Data\n",
    "\n",
    "Load Google file system\n"
   ]
  },
  {
   "cell_type": "code",
   "execution_count": null,
   "metadata": {
    "id": "Pgaz1EanjJ9Z"
   },
   "outputs": [],
   "source": [
    "# load Google cloud storage\n",
    "gcs = gcsfs.GCSFileSystem(token='anon')"
   ]
  },
  {
   "cell_type": "markdown",
   "metadata": {
    "id": "t4wZnv7uLSin"
   },
   "source": [
    "Loop through zstore links, use zarr to open\n"
   ]
  },
  {
   "cell_type": "code",
   "execution_count": null,
   "metadata": {
    "id": "MkCBd3z2-mCX"
   },
   "outputs": [],
   "source": [
    "nm=len(mdls)\n",
    "nf=len(flds)\n",
    "ne=len(expts)"
   ]
  },
  {
   "cell_type": "code",
   "execution_count": null,
   "metadata": {
    "colab": {
     "base_uri": "https://localhost:8080/",
     "height": 451
    },
    "id": "zGB4t5rGLmqf",
    "outputId": "5dca02ab-bfb9-4265-bd7e-f11c5750f1c5"
   },
   "outputs": [],
   "source": [
    "\n",
    "if readdata:\n",
    "  out = display(progress(0, 1), display_id=True)\n",
    "  dsall=[]\n",
    "  for i,df_ta in enumerate(df_all):\n",
    "\n",
    "    dsm=[]\n",
    "    for j,df in enumerate(df_ta):\n",
    "      ds=[]\n",
    "      print(expts[i]+','+flds[j])\n",
    "      for index, item in enumerate(df.zstore.values, start=0):\n",
    "        mapper=gcs.get_mapper(item)\n",
    "        ds.append(xr.open_zarr(mapper, decode_times=False))\n",
    "        out.update(progress(index+j*nm+i*nm*nf, ne*nm*nf))\n",
    "      dsm.append(ds)\n",
    "    dsall.append(dsm)  "
   ]
  },
  {
   "cell_type": "markdown",
   "metadata": {
    "id": "FJa7zj5MHbDX"
   },
   "source": [
    "concatenated dataarrays for ts, global mean\n"
   ]
  },
  {
   "cell_type": "code",
   "execution_count": null,
   "metadata": {
    "colab": {
     "base_uri": "https://localhost:8080/",
     "height": 729
    },
    "id": "nWZFFT8fNoVB",
    "outputId": "f74dc2ec-da2a-4105-b29a-4cc0622d0a9a"
   },
   "outputs": [],
   "source": [
    " \n",
    "if readdata:\n",
    "  dall=[]\n",
    "  out = display(progress(0, 1), display_id=True)\n",
    "  for i,ds in enumerate(dsall,start=0):\n",
    "    dexp=[]\n",
    "    for j,dm in enumerate(ds):\n",
    "      print(expts[i]+','+flds[j])\n",
    "      for index, dd in enumerate(dm, start=0):\n",
    "          if 'longitude' in dd.keys():\n",
    "            dd=dd.rename({'longitude': 'lon','latitude': 'lat'})\n",
    "          if 'latitude' in dd.coords:\n",
    "            dd=dd.drop('latitude')  \n",
    "            dd=dd.drop_dims('latitude')\n",
    "       \n",
    "          tmp=dd[flds[j]][:4800,:,:].interp(lon=lon_out,lat=lat_out, kwargs={\"fill_value\": \"extrapolate\"})\n",
    "          if calstrt[i]:\n",
    "            tmp.coords['time']=pd.date_range('1850-01-01', periods=tmp['time'].values.shape[0],freq='M')\n",
    "          if tmp['time'].dtype=='float64' or  tmp['time'].dtype=='int64':\n",
    "            tmp.coords['time']=num2date(tmp['time'].values,tmp['time'].units)     \n",
    "          srm=tmp.groupby('time.year').mean('time')\n",
    "          if index==0:\n",
    "            dac=srm\n",
    "          else:\n",
    "            dac=xr.concat([dac,srm],'ens',coords='minimal',compat='override')\n",
    "          out.update(progress(index+j*nm+i*nm*nf, ne*nm*nf))\n",
    "      dexp.append(dac)\n",
    "    dall.append(dexp)"
   ]
  },
  {
   "cell_type": "markdown",
   "metadata": {
    "id": "QdGXa2hCp6tD"
   },
   "source": [
    "Find complete runs\n",
    "\n",
    "\n"
   ]
  },
  {
   "cell_type": "code",
   "execution_count": null,
   "metadata": {
    "colab": {
     "background_save": true,
     "base_uri": "https://localhost:8080/",
     "height": 278
    },
    "id": "Q2AYLtYelCCY",
    "outputId": "04da2d9a-f14b-44aa-d693-a9f331a85861"
   },
   "outputs": [],
   "source": [
    "\n",
    "if readdata:\n",
    "  out = display(progress(0, 1), display_id=True)\n",
    "  for i,d in enumerate(dall,start=0):\n",
    "    tmp=xr.merge(d[:])\n",
    "    tmp.to_netcdf(datadir+'/colab_4xco2/'+expts[i]+'.nc')\n",
    "    #lat=tmp.tas.lat\n",
    "    #weights = np.cos(np.deg2rad(lat))\n",
    "    #weights.name = \"weights\"\n",
    "    #tmp_gm=tmp.weighted(weights).mean(dim='lat').mean(dim='lon')\n",
    "    #tmp_gm.to_netcdf('/content/drive/MyDrive/colab_4xco2/'+expts[i]+'_gm.nc')\n",
    "    out.update(progress(i,ne))\n",
    "\n"
   ]
  },
  {
   "cell_type": "code",
   "execution_count": null,
   "metadata": {
    "id": "HUN2orjBqEe5"
   },
   "outputs": [],
   "source": [
    "\n",
    "  \n",
    "if readdata:\n",
    "  out = display(progress(0, 1), display_id=True)\n",
    "  for i,d in enumerate(dall,start=0):\n",
    "    tmp=xr.open_dataset(datadir+'/'+expts[i]+'.nc')\n",
    "    lat=tmp.tas.lat\n",
    "    weights = np.cos(np.deg2rad(lat))\n",
    "    weights.name = \"weights\"\n",
    "    tmp_gm=tmp.weighted(weights).mean(dim='lat').mean(dim='lon')\n",
    "    tmp_gm.to_netcdf(datadir+'/'+expts[i]+'_gm.nc')\n",
    "    out.update(progress(i,ne))\n"
   ]
  }
 ],
 "metadata": {
  "colab": {
   "collapsed_sections": [],
   "include_colab_link": true,
   "machine_shape": "hm",
   "name": "CMIP6 get data.ipynb",
   "provenance": []
  },
  "kernelspec": {
   "display_name": "Python 3 (ipykernel)",
   "language": "python",
   "name": "python3"
  },
  "language_info": {
   "codemirror_mode": {
    "name": "ipython",
    "version": 3
   },
   "file_extension": ".py",
   "mimetype": "text/x-python",
   "name": "python",
   "nbconvert_exporter": "python",
   "pygments_lexer": "ipython3",
   "version": "3.7.13"
  }
 },
 "nbformat": 4,
 "nbformat_minor": 1
}
