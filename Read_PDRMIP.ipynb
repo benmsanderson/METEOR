{
 "cells": [
  {
   "cell_type": "code",
   "execution_count": 1,
   "id": "453388ea-bf15-442a-877c-2646f798b61a",
   "metadata": {},
   "outputs": [],
   "source": [
    "import os as os\n",
    "import  pandas as pd\n",
    "import glob\n",
    "import re as re\n",
    "import numpy as np\n",
    "from pathlib import Path\n",
    "import matplotlib.pyplot as plt"
   ]
  },
  {
   "cell_type": "code",
   "execution_count": 2,
   "id": "13abf524-b24c-4884-8f70-9c778293f15b",
   "metadata": {},
   "outputs": [],
   "source": [
    "\n",
    "import xarray as xr"
   ]
  },
  {
   "cell_type": "code",
   "execution_count": 3,
   "id": "1dd024af-1998-47cc-adf6-1156527e4d2c",
   "metadata": {},
   "outputs": [],
   "source": [
    "datadir='/storage/pdo/pdrmip/regridded/T42'"
   ]
  },
  {
   "cell_type": "code",
   "execution_count": 4,
   "id": "e40f8a63-cb3a-44b9-8d3e-76711a5ec5dd",
   "metadata": {},
   "outputs": [],
   "source": [
    "fils=[]\n",
    "for (dirpath, dirnames, filenames) in os.walk(datadir):\n",
    "    fils += [os.path.join(dirpath, file) for file in filenames]"
   ]
  },
  {
   "cell_type": "code",
   "execution_count": 133,
   "id": "2e9cccb6-115c-4051-8527-6f3090ad1c76",
   "metadata": {},
   "outputs": [],
   "source": [
    "mdls = os.listdir(datadir)"
   ]
  },
  {
   "cell_type": "code",
   "execution_count": 134,
   "id": "e8dadbf8-fc67-4654-a7cd-9b6e679a469e",
   "metadata": {},
   "outputs": [],
   "source": [
    "mdls.remove('NCAR-CESM1-CAM4')"
   ]
  },
  {
   "cell_type": "code",
   "execution_count": 135,
   "id": "c8e5528c-7b19-4456-9e57-377ecbb8037c",
   "metadata": {},
   "outputs": [],
   "source": [
    "df = pd.DataFrame(columns = ['Variable', 'Type', 'Model','Experiment','Configuration','Resolution','period','Filename'])\n",
    "for j,dp in enumerate(mdls):\n",
    "    dirpath=datadir+'/'+mdls[j]+'/coupled'\n",
    "    if os.path.isdir(dirpath):\n",
    "        #fils=glob.glob(dirpath+'/*.nc')\n",
    "        tmpl=list(os.walk(dirpath, followlinks=False))\n",
    "        fils=tmpl[0][2]\n",
    "        for i,fl in enumerate(fils):\n",
    "            if Path(tmpl[0][0]+'/'+fl).is_symlink():\n",
    "                1\n",
    "            else:\n",
    "                tmp=re.sub('.*/','',re.sub('.nc','',fl)).split('_')+[tmpl[0][0]+'/'+fl]\n",
    "                df.loc[len(df)] = tmp"
   ]
  },
  {
   "cell_type": "code",
   "execution_count": 154,
   "id": "990559bf-3ff1-4221-b2f1-0d07e4e05d43",
   "metadata": {},
   "outputs": [],
   "source": [
    "expts=df.Experiment.unique()[:]"
   ]
  },
  {
   "cell_type": "code",
   "execution_count": 156,
   "id": "65b0671b-37bf-4f27-b38b-7b820c8b2ca2",
   "metadata": {},
   "outputs": [],
   "source": [
    "vars=['tas','pr'] #df.Variable.unique()"
   ]
  },
  {
   "cell_type": "code",
   "execution_count": 158,
   "id": "8a30cd81-4787-4237-86b1-29e1c64f8a11",
   "metadata": {},
   "outputs": [
    {
     "data": {
      "text/plain": [
       "array(['CanESM2', 'ECHAM-HAM', 'GISS-E2-R', 'HadGEM2', 'HadGEM3',\n",
       "       'IPSL-CM5A', 'MIROC-SPRINTARS', 'MPI-ESM', 'NCAR-CESM1-CAM5',\n",
       "       'NorESM1'], dtype=object)"
      ]
     },
     "execution_count": 158,
     "metadata": {},
     "output_type": "execute_result"
    }
   ],
   "source": [
    "mdls=df.Model.unique()\n",
    "mdls"
   ]
  },
  {
   "cell_type": "code",
   "execution_count": 177,
   "id": "0ceead6f-c09f-442a-9dd6-45dadfffc1fe",
   "metadata": {},
   "outputs": [
    {
     "name": "stderr",
     "output_type": "stream",
     "text": [
      "/uio/kant/div-cicero-u1/bensan/.local/lib/python3.8/site-packages/numpy/core/fromnumeric.py:86: RuntimeWarning: overflow encountered in reduce\n",
      "  return ufunc.reduce(obj, axis, dtype, out, **passkwargs)\n",
      "/uio/kant/div-cicero-u1/bensan/.local/lib/python3.8/site-packages/numpy/core/fromnumeric.py:86: RuntimeWarning: overflow encountered in reduce\n",
      "  return ufunc.reduce(obj, axis, dtype, out, **passkwargs)\n",
      "/uio/kant/div-cicero-u1/bensan/.local/lib/python3.8/site-packages/numpy/core/fromnumeric.py:86: RuntimeWarning: overflow encountered in reduce\n",
      "  return ufunc.reduce(obj, axis, dtype, out, **passkwargs)\n",
      "/uio/kant/div-cicero-u1/bensan/.local/lib/python3.8/site-packages/numpy/core/fromnumeric.py:86: RuntimeWarning: overflow encountered in reduce\n",
      "  return ufunc.reduce(obj, axis, dtype, out, **passkwargs)\n",
      "/uio/kant/div-cicero-u1/bensan/.local/lib/python3.8/site-packages/numpy/core/fromnumeric.py:86: RuntimeWarning: overflow encountered in reduce\n",
      "  return ufunc.reduce(obj, axis, dtype, out, **passkwargs)\n",
      "/uio/kant/div-cicero-u1/bensan/.local/lib/python3.8/site-packages/numpy/core/fromnumeric.py:86: RuntimeWarning: overflow encountered in reduce\n",
      "  return ufunc.reduce(obj, axis, dtype, out, **passkwargs)\n",
      "/uio/kant/div-cicero-u1/bensan/.local/lib/python3.8/site-packages/numpy/core/fromnumeric.py:86: RuntimeWarning: overflow encountered in reduce\n",
      "  return ufunc.reduce(obj, axis, dtype, out, **passkwargs)\n",
      "/uio/kant/div-cicero-u1/bensan/.local/lib/python3.8/site-packages/numpy/core/fromnumeric.py:86: RuntimeWarning: overflow encountered in reduce\n",
      "  return ufunc.reduce(obj, axis, dtype, out, **passkwargs)\n",
      "/uio/kant/div-cicero-u1/bensan/.local/lib/python3.8/site-packages/numpy/core/fromnumeric.py:86: RuntimeWarning: overflow encountered in reduce\n",
      "  return ufunc.reduce(obj, axis, dtype, out, **passkwargs)\n",
      "/uio/kant/div-cicero-u1/bensan/.local/lib/python3.8/site-packages/numpy/core/fromnumeric.py:86: RuntimeWarning: overflow encountered in reduce\n",
      "  return ufunc.reduce(obj, axis, dtype, out, **passkwargs)\n",
      "/uio/kant/div-cicero-u1/bensan/.local/lib/python3.8/site-packages/numpy/core/fromnumeric.py:86: RuntimeWarning: overflow encountered in reduce\n",
      "  return ufunc.reduce(obj, axis, dtype, out, **passkwargs)\n",
      "/uio/kant/div-cicero-u1/bensan/.local/lib/python3.8/site-packages/numpy/core/fromnumeric.py:86: RuntimeWarning: overflow encountered in reduce\n",
      "  return ufunc.reduce(obj, axis, dtype, out, **passkwargs)\n",
      "/uio/kant/div-cicero-u1/bensan/.local/lib/python3.8/site-packages/numpy/core/fromnumeric.py:86: RuntimeWarning: overflow encountered in reduce\n",
      "  return ufunc.reduce(obj, axis, dtype, out, **passkwargs)\n",
      "/uio/kant/div-cicero-u1/bensan/.local/lib/python3.8/site-packages/numpy/core/fromnumeric.py:86: RuntimeWarning: overflow encountered in reduce\n",
      "  return ufunc.reduce(obj, axis, dtype, out, **passkwargs)\n",
      "/uio/kant/div-cicero-u1/bensan/.local/lib/python3.8/site-packages/numpy/core/fromnumeric.py:86: RuntimeWarning: overflow encountered in reduce\n",
      "  return ufunc.reduce(obj, axis, dtype, out, **passkwargs)\n",
      "/uio/kant/div-cicero-u1/bensan/.local/lib/python3.8/site-packages/numpy/core/fromnumeric.py:86: RuntimeWarning: overflow encountered in reduce\n",
      "  return ufunc.reduce(obj, axis, dtype, out, **passkwargs)\n",
      "/uio/kant/div-cicero-u1/bensan/.local/lib/python3.8/site-packages/numpy/core/fromnumeric.py:86: RuntimeWarning: overflow encountered in reduce\n",
      "  return ufunc.reduce(obj, axis, dtype, out, **passkwargs)\n",
      "/uio/kant/div-cicero-u1/bensan/.local/lib/python3.8/site-packages/numpy/core/fromnumeric.py:86: RuntimeWarning: overflow encountered in reduce\n",
      "  return ufunc.reduce(obj, axis, dtype, out, **passkwargs)\n",
      "/uio/kant/div-cicero-u1/bensan/.local/lib/python3.8/site-packages/numpy/core/fromnumeric.py:86: RuntimeWarning: overflow encountered in reduce\n",
      "  return ufunc.reduce(obj, axis, dtype, out, **passkwargs)\n",
      "/uio/kant/div-cicero-u1/bensan/.local/lib/python3.8/site-packages/numpy/core/fromnumeric.py:86: RuntimeWarning: overflow encountered in reduce\n",
      "  return ufunc.reduce(obj, axis, dtype, out, **passkwargs)\n",
      "/uio/kant/div-cicero-u1/bensan/.local/lib/python3.8/site-packages/numpy/core/fromnumeric.py:86: RuntimeWarning: overflow encountered in reduce\n",
      "  return ufunc.reduce(obj, axis, dtype, out, **passkwargs)\n"
     ]
    }
   ],
   "source": [
    "dsd=dict()\n",
    "\n",
    "for i,expt in enumerate(expts):\n",
    "    ldac=[]\n",
    "    for k,var in enumerate(vars):\n",
    "\n",
    "        for j,mdl in enumerate(mdls):\n",
    "            rslt_df = df[(df['Variable'] == var) & (df['Experiment'] == expt) & (df['Model'] == mdl)].groupby('Model').first()\n",
    "\n",
    "            if mdl in rslt_df.index:\n",
    "                    #print(rslt_df.loc[mdl].Filename)\n",
    "                    tmpds=xr.open_dataset(rslt_df.loc[mdl].Filename,decode_times=False)\n",
    "\n",
    "                    tmp=tmpds[var].squeeze()\n",
    "                    if 't' in tmp.coords:\n",
    "                      tmp=tmp.rename({'t': 'time'})\n",
    "\n",
    "                    if 'time_counter' in tmp.coords:\n",
    "                      tmp=tmp.rename({'time_counter': 'time'})   \n",
    "                    nt=len(tmp.coords['time'])\n",
    "                    tmp.coords['time']=xr.cftime_range(start=\"1850\", periods=nt, freq=\"M\", calendar=\"noleap\")        \n",
    "                    #print(tmp.coords)\n",
    "            else:\n",
    "                tmp=tmp*np.nan\n",
    "            if j==0:  \n",
    "                dac=tmp\n",
    "            else:\n",
    "                #print('concat')\n",
    "                dac=xr.concat([dac,tmp],'ens',coords='minimal',compat='override')\n",
    "\n",
    "        ldac.append(dac)\n",
    "    ldac=xr.merge(ldac)\n",
    "    ldac=ldac.groupby('time.year').mean('time').transpose(\"year\", \"lat\", \"lon\",\"ens\")\n",
    "    ldac=ldac.assign_coords({\"ens\": mdls})\n",
    "    dsd[expt]=ldac"
   ]
  },
  {
   "cell_type": "code",
   "execution_count": 182,
   "id": "fa262166-841a-41ba-b490-2f1b58a4773e",
   "metadata": {},
   "outputs": [],
   "source": [
    "for i,expt in enumerate(expts):\n",
    "    dsd[expt].to_netcdf('training/'+expt+'_T42_ANN.nc')"
   ]
  }
 ],
 "metadata": {
  "kernelspec": {
   "display_name": "METEOR",
   "language": "python",
   "name": "meteor"
  },
  "language_info": {
   "codemirror_mode": {
    "name": "ipython",
    "version": 3
   },
   "file_extension": ".py",
   "mimetype": "text/x-python",
   "name": "python",
   "nbconvert_exporter": "python",
   "pygments_lexer": "ipython3",
   "version": "3.8.13"
  }
 },
 "nbformat": 4,
 "nbformat_minor": 5
}
