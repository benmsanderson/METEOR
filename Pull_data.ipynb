{
 "cells": [
  {
   "cell_type": "code",
   "execution_count": 15,
   "id": "6353b7fc-a71f-46ff-a522-12b5ddd228c1",
   "metadata": {},
   "outputs": [],
   "source": [
    "import gdown\n",
    "datadir='/storage/qbo/users/bensan/colab_4xco2/'\n",
    "gd=\"https://drive.google.com/uc?id=\""
   ]
  },
  {
   "cell_type": "code",
   "execution_count": 16,
   "id": "d7471ec4-2319-4f7a-8565-3b75dea6f6f8",
   "metadata": {},
   "outputs": [
    {
     "name": "stderr",
     "output_type": "stream",
     "text": [
      "Downloading...\n",
      "From: https://drive.google.com/uc?id=11a4FcD80yBflP9yf5-Lb2QwW7ro4Orln\n",
      "To: /storage/qbo/users/bensan/colab_4xco2/mdls.pkl\n",
      "100%|██████████| 588/588 [00:00<00:00, 3.47MB/s]\n"
     ]
    },
    {
     "data": {
      "text/plain": [
       "'/storage/qbo/users/bensan/colab_4xco2/mdls.pkl'"
      ]
     },
     "execution_count": 16,
     "metadata": {},
     "output_type": "execute_result"
    }
   ],
   "source": [
    "\n",
    "# a file\n",
    "url = gd+\"11a4FcD80yBflP9yf5-Lb2QwW7ro4Orln\"\n",
    "output = datadir+\"mdls.pkl\"\n",
    "gdown.download(url, output, quiet=False)\n"
   ]
  },
  {
   "cell_type": "code",
   "execution_count": 19,
   "id": "63e2976b-f874-4a8f-8931-0d95b56ed747",
   "metadata": {},
   "outputs": [
    {
     "data": {
      "text/plain": [
       "'/storage/qbo/users/bensan/colab_4xco2/abrupt-4xCO2.nc'"
      ]
     },
     "execution_count": 19,
     "metadata": {},
     "output_type": "execute_result"
    }
   ],
   "source": [
    "\n",
    "# a file\n",
    "url = gd+\"1-3fwNagXmEmN95XVvTyZzafwNZT1SJRd\"\n",
    "output = datadir+\"abrupt-4xCO2.nc\"\n",
    "gdown.download(url, output, quiet=True)\n"
   ]
  },
  {
   "cell_type": "code",
   "execution_count": 21,
   "id": "777772ab-ac1e-490f-a82b-1529f56ce278",
   "metadata": {},
   "outputs": [
    {
     "data": {
      "text/plain": [
       "'/storage/qbo/users/bensan/colab_4xco2/1pctCO2.nc'"
      ]
     },
     "execution_count": 21,
     "metadata": {},
     "output_type": "execute_result"
    }
   ],
   "source": [
    "\n",
    "# a file\n",
    "url = gd+\"1n3mE_OymwVlzEbftf5wXOx1BfswUrLK4\"\n",
    "output = datadir+\"1pctCO2.nc\"\n",
    "gdown.download(url, output, quiet=True)\n"
   ]
  },
  {
   "cell_type": "code",
   "execution_count": 22,
   "id": "d6f0326b-74eb-44b9-9990-642dc35cd755",
   "metadata": {},
   "outputs": [
    {
     "data": {
      "text/plain": [
       "'/storage/qbo/users/bensan/colab_4xco2/historical.nc'"
      ]
     },
     "execution_count": 22,
     "metadata": {},
     "output_type": "execute_result"
    }
   ],
   "source": [
    "\n",
    "# a file\n",
    "url = gd+\"1Thiz6qGgjCHI1rH8ysmWFe1eTgHWiGFQ\"\n",
    "output = datadir+\"historical.nc\"\n",
    "gdown.download(url, output, quiet=True)\n"
   ]
  },
  {
   "cell_type": "code",
   "execution_count": 23,
   "id": "c18ff7a2-2b04-41f6-b04c-846c7f04e835",
   "metadata": {},
   "outputs": [
    {
     "data": {
      "text/plain": [
       "'/storage/qbo/users/bensan/colab_4xco2/picontrol.nc'"
      ]
     },
     "execution_count": 23,
     "metadata": {},
     "output_type": "execute_result"
    }
   ],
   "source": [
    "\n",
    "# a file\n",
    "url = gd+\"1-6b5lpYHRN9xkSK-FGVivHkPSXWCvLJs\"\n",
    "output = datadir+\"picontrol.nc\"\n",
    "gdown.download(url, output, quiet=True)\n"
   ]
  },
  {
   "cell_type": "code",
   "execution_count": 24,
   "id": "ff8819b5-e9f6-4d92-87f7-4d7b5d5e9512",
   "metadata": {},
   "outputs": [
    {
     "data": {
      "text/plain": [
       "'/storage/qbo/users/bensan/colab_4xco2/ssp585.nc'"
      ]
     },
     "execution_count": 24,
     "metadata": {},
     "output_type": "execute_result"
    }
   ],
   "source": [
    "\n",
    "# a file\n",
    "url = gd+\"1-AEt6iyzERXcf6Gdf6gsJC16lKk8iUiU\"\n",
    "output = datadir+\"ssp585.nc\"\n",
    "gdown.download(url, output, quiet=True)\n"
   ]
  },
  {
   "cell_type": "code",
   "execution_count": 25,
   "id": "4101e123-cf76-42db-b8a8-429b2a31a01d",
   "metadata": {},
   "outputs": [
    {
     "data": {
      "text/plain": [
       "'/storage/qbo/users/bensan/colab_4xco2/ssp126.nc'"
      ]
     },
     "execution_count": 25,
     "metadata": {},
     "output_type": "execute_result"
    }
   ],
   "source": [
    "\n",
    "# a file\n",
    "url = gd+\"1-6em2SY7TBONUaq-WyDXQ2rmXeRIuxGv\"\n",
    "output = datadir+\"ssp126.nc\"\n",
    "gdown.download(url, output, quiet=True)\n"
   ]
  },
  {
   "cell_type": "code",
   "execution_count": 26,
   "id": "dcac9085-dfdc-4929-929c-4a3d0afbd9f9",
   "metadata": {},
   "outputs": [
    {
     "data": {
      "text/plain": [
       "'/storage/qbo/users/bensan/colab_4xco2/lrmip2_4x.nc'"
      ]
     },
     "execution_count": 26,
     "metadata": {},
     "output_type": "execute_result"
    }
   ],
   "source": [
    "\n",
    "# a file\n",
    "url = gd+\"1-2sQ8tU6cKVggVVnsKwoId4QVXRd7Pm5\"\n",
    "output = datadir+\"lrmip2_4x.nc\"\n",
    "gdown.download(url, output, quiet=True)\n"
   ]
  },
  {
   "cell_type": "code",
   "execution_count": 27,
   "id": "211da942-ae28-4ed4-8dda-df365d1a25b1",
   "metadata": {},
   "outputs": [
    {
     "data": {
      "text/plain": [
       "'/storage/qbo/users/bensan/colab_4xco2/lrmip2_cnt.nc'"
      ]
     },
     "execution_count": 27,
     "metadata": {},
     "output_type": "execute_result"
    }
   ],
   "source": [
    "\n",
    "# a file\n",
    "url = gd+\"1-2r6L4j-EidK28EI_fexv7cFQ8pEEBWv\"\n",
    "output = datadir+\"lrmip2_cnt.nc\"\n",
    "gdown.download(url, output, quiet=True)\n"
   ]
  },
  {
   "cell_type": "code",
   "execution_count": 28,
   "id": "7d9d192f-59c5-4605-842a-49d2aa8584a4",
   "metadata": {},
   "outputs": [
    {
     "data": {
      "text/plain": [
       "'/storage/qbo/users/bensan/colab_4xco2/a4xanom.nc'"
      ]
     },
     "execution_count": 28,
     "metadata": {},
     "output_type": "execute_result"
    }
   ],
   "source": [
    "\n",
    "# a file\n",
    "url = gd+\"1FOcBGA0hRWoW39rP2lzN5DhPEqzcuYhk\"\n",
    "output = datadir+\"a4xanom.nc\"\n",
    "gdown.download(url, output, quiet=True)\n"
   ]
  },
  {
   "cell_type": "code",
   "execution_count": 29,
   "id": "dfd826d3-8551-4026-9eca-cc2cac3a3b73",
   "metadata": {},
   "outputs": [
    {
     "data": {
      "text/plain": [
       "'/storage/qbo/users/bensan/colab_4xco2/1pcanom.nc'"
      ]
     },
     "execution_count": 29,
     "metadata": {},
     "output_type": "execute_result"
    }
   ],
   "source": [
    "\n",
    "# a file\n",
    "url = gd+\"1MkGH3bvvvnuETQrCbYZRTmsT56ECf9N9\"\n",
    "output = datadir+\"1pcanom.nc\"\n",
    "gdown.download(url, output, quiet=True)\n"
   ]
  },
  {
   "cell_type": "code",
   "execution_count": null,
   "id": "774107f9-4089-432c-9a79-e6405bc850c3",
   "metadata": {},
   "outputs": [],
   "source": []
  }
 ],
 "metadata": {
  "kernelspec": {
   "display_name": "METEOR",
   "language": "python",
   "name": "meteor"
  },
  "language_info": {
   "codemirror_mode": {
    "name": "ipython",
    "version": 3
   },
   "file_extension": ".py",
   "mimetype": "text/x-python",
   "name": "python",
   "nbconvert_exporter": "python",
   "pygments_lexer": "ipython3",
   "version": "3.8.13"
  }
 },
 "nbformat": 4,
 "nbformat_minor": 5
}
