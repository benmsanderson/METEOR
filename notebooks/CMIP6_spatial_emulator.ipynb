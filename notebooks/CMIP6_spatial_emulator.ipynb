{
 "cells": [
  {
   "cell_type": "markdown",
   "metadata": {
    "colab_type": "text",
    "id": "view-in-github"
   },
   "source": [
    "<a href=\"https://colab.research.google.com/github/benmsanderson/prpattern/blob/main/CMIP6_spatial_emulator.ipynb\" target=\"_parent\"><img src=\"https://colab.research.google.com/assets/colab-badge.svg\" alt=\"Open In Colab\"/></a>"
   ]
  },
  {
   "cell_type": "code",
   "execution_count": 1,
   "metadata": {},
   "outputs": [],
   "source": [
    "datadir='/content/drive/MyDrive/colab_4xco2'"
   ]
  },
  {
   "cell_type": "code",
   "execution_count": 2,
   "metadata": {
    "id": "i4_7gVHY61qO"
   },
   "outputs": [
    {
     "name": "stdout",
     "output_type": "stream",
     "text": [
      "Collecting eofs\n",
      "  Using cached eofs-1.4.0.tar.gz (1.0 MB)\n",
      "Requirement already satisfied: numpy in /home/sanderson/anaconda3/lib/python3.9/site-packages (from eofs) (1.22.3)\n",
      "Building wheels for collected packages: eofs\n",
      "  Building wheel for eofs (setup.py) ... \u001b[?25ldone\n",
      "\u001b[?25h  Created wheel for eofs: filename=eofs-1.4.0-py3-none-any.whl size=1100374 sha256=e5662f2f3d7b826228f49dfe4210cc0c0200a6b4611b8910251d9afe840a8f5a\n",
      "  Stored in directory: /home/sanderson/.cache/pip/wheels/5e/0f/2a/805605311a0e20b6d49064f4becdd6889235fdb6ea7266f7db\n",
      "Successfully built eofs\n",
      "Installing collected packages: eofs\n",
      "Successfully installed eofs-1.4.0\n",
      "Collecting lmfit\n",
      "  Using cached lmfit-1.0.3.tar.gz (292 kB)\n",
      "Requirement already satisfied: corner in /home/sanderson/anaconda3/lib/python3.9/site-packages (2.2.1)\n",
      "Collecting emcee\n",
      "  Using cached emcee-3.1.2-py2.py3-none-any.whl (46 kB)\n",
      "Collecting netcdf4\n",
      "  Downloading netCDF4-1.5.8-cp39-cp39-manylinux_2_17_x86_64.manylinux2014_x86_64.whl (4.7 MB)\n",
      "\u001b[K     |████████████████████████████████| 4.7 MB 4.9 MB/s eta 0:00:01\n",
      "\u001b[?25hCollecting h5netcdf\n",
      "  Using cached h5netcdf-1.0.0-py2.py3-none-any.whl (24 kB)\n",
      "Collecting asteval>=0.9.22\n",
      "  Downloading asteval-0.9.27-py3-none-any.whl (17 kB)\n",
      "Requirement already satisfied: numpy>=1.18 in /home/sanderson/anaconda3/lib/python3.9/site-packages (from lmfit) (1.22.3)\n",
      "Requirement already satisfied: scipy>=1.4 in /home/sanderson/anaconda3/lib/python3.9/site-packages (from lmfit) (1.7.3)\n",
      "Collecting uncertainties>=3.0.1\n",
      "  Using cached uncertainties-3.1.6-py2.py3-none-any.whl (98 kB)\n",
      "Requirement already satisfied: matplotlib>=2.1 in /home/sanderson/anaconda3/lib/python3.9/site-packages (from corner) (3.5.1)\n",
      "Requirement already satisfied: cftime in /home/sanderson/anaconda3/lib/python3.9/site-packages (from netcdf4) (1.6.0)\n",
      "Requirement already satisfied: packaging in /home/sanderson/anaconda3/lib/python3.9/site-packages (from h5netcdf) (21.3)\n",
      "Collecting h5py\n",
      "  Downloading h5py-3.7.0-cp39-cp39-manylinux_2_12_x86_64.manylinux2010_x86_64.whl (4.5 MB)\n",
      "\u001b[K     |████████████████████████████████| 4.5 MB 63.0 MB/s eta 0:00:01\n",
      "\u001b[?25hRequirement already satisfied: fonttools>=4.22.0 in /home/sanderson/anaconda3/lib/python3.9/site-packages (from matplotlib>=2.1->corner) (4.25.0)\n",
      "Requirement already satisfied: pyparsing>=2.2.1 in /home/sanderson/anaconda3/lib/python3.9/site-packages (from matplotlib>=2.1->corner) (3.0.4)\n",
      "Requirement already satisfied: python-dateutil>=2.7 in /home/sanderson/anaconda3/lib/python3.9/site-packages (from matplotlib>=2.1->corner) (2.8.2)\n",
      "Requirement already satisfied: kiwisolver>=1.0.1 in /home/sanderson/anaconda3/lib/python3.9/site-packages (from matplotlib>=2.1->corner) (1.4.2)\n",
      "Requirement already satisfied: cycler>=0.10 in /home/sanderson/anaconda3/lib/python3.9/site-packages (from matplotlib>=2.1->corner) (0.11.0)\n",
      "Requirement already satisfied: pillow>=6.2.0 in /home/sanderson/anaconda3/lib/python3.9/site-packages (from matplotlib>=2.1->corner) (9.0.1)\n",
      "Requirement already satisfied: six>=1.5 in /home/sanderson/anaconda3/lib/python3.9/site-packages (from python-dateutil>=2.7->matplotlib>=2.1->corner) (1.16.0)\n",
      "Requirement already satisfied: future in /home/sanderson/anaconda3/lib/python3.9/site-packages (from uncertainties>=3.0.1->lmfit) (0.18.2)\n",
      "Building wheels for collected packages: lmfit\n",
      "  Building wheel for lmfit (setup.py) ... \u001b[?25ldone\n",
      "\u001b[?25h  Created wheel for lmfit: filename=lmfit-1.0.3-py3-none-any.whl size=84403 sha256=84eb52cc52bef2b33ab61d3e73308e3e6d5557f7662b85b296b68b756b8ab422\n",
      "  Stored in directory: /home/sanderson/.cache/pip/wheels/76/f4/32/c336957bfd694c7746f4df19b74e08d918ada688fe1349cca2\n",
      "Successfully built lmfit\n",
      "Installing collected packages: uncertainties, h5py, asteval, netcdf4, lmfit, h5netcdf, emcee\n",
      "Successfully installed asteval-0.9.27 emcee-3.1.2 h5netcdf-1.0.0 h5py-3.7.0 lmfit-1.0.3 netcdf4-1.5.8 uncertainties-3.1.6\n"
     ]
    }
   ],
   "source": [
    "!pip install eofs\n",
    "!pip install lmfit corner emcee netcdf4 h5netcdf\n"
   ]
  },
  {
   "cell_type": "code",
   "execution_count": 3,
   "metadata": {
    "id": "aH3VEYX-Ozht"
   },
   "outputs": [],
   "source": [
    "#from matplotlib import pyplot as plt\n",
    "import pickle\n",
    "import os\n",
    "import scipy\n",
    "#import importlib\n",
    "\n",
    "from scipy import signal\n",
    "import numpy as np\n",
    "import emcee\n",
    "import lmfit\n",
    "import pandas as pd\n",
    "import xarray as xr\n",
    "import sys\n",
    "from eofs.xarray import Eof\n",
    "\n"
   ]
  },
  {
   "cell_type": "code",
   "execution_count": 4,
   "metadata": {},
   "outputs": [],
   "source": [
    "sys.path.append(os.path.join(os.getcwd(), \"../\", \"src\"))"
   ]
  },
  {
   "cell_type": "code",
   "execution_count": 5,
   "metadata": {},
   "outputs": [],
   "source": [
    "from meteor.utils import make_anom"
   ]
  },
  {
   "cell_type": "markdown",
   "metadata": {
    "id": "XK5kY6EH_EbP"
   },
   "source": [
    "Open xarray datasets"
   ]
  },
  {
   "cell_type": "code",
   "execution_count": 6,
   "metadata": {
    "id": "0iYKPg2QVvOx"
   },
   "outputs": [],
   "source": [
    "mdlslr=pickle.load( open( datadir+\"/mdls.pkl\", \"rb\" ))\n",
    "nmlr=len(mdlslr)"
   ]
  },
  {
   "cell_type": "code",
   "execution_count": 7,
   "metadata": {},
   "outputs": [
    {
     "data": {
      "text/plain": [
       "'/content/drive/MyDrive/colab_4xco2/abrupt-4xCO2.nc'"
      ]
     },
     "execution_count": 7,
     "metadata": {},
     "output_type": "execute_result"
    }
   ],
   "source": [
    "datadir+\"/abrupt-4xCO2.nc\""
   ]
  },
  {
   "cell_type": "code",
   "execution_count": 8,
   "metadata": {
    "id": "Iis29vj44dzq"
   },
   "outputs": [],
   "source": [
    "#CMIP6\n",
    "ds_4x = xr.open_dataset(datadir+\"/abrupt-4xCO2.nc\")\n",
    "ds_1pc = xr.open_dataset(datadir+\"/1pctCO2.nc\")\n",
    "ds_hist = xr.open_dataset(datadir+\"/historical.nc\")\n",
    "\n",
    "ds_cnt = xr.open_dataset(datadir+\"/piControl.nc\")\n",
    "ds_r85 = xr.open_dataset(datadir+\"/ssp585.nc\")\n",
    "ds_r26 = xr.open_dataset(datadir+\"/ssp126.nc\")"
   ]
  },
  {
   "cell_type": "code",
   "execution_count": null,
   "metadata": {
    "id": "zqnIieZMHgd4"
   },
   "outputs": [],
   "source": [
    "if 1:\n",
    "  ds_4x_anom=make_anom(ds_4x,ds_cnt)\n",
    "  ds_4x_anom.to_netcdf(datadir+'/a4xanom.nc')\n",
    "  ds_1pc_anom=make_anom(ds_1pc,ds_cnt)\n",
    "  ds_1pc_anom.to_netcdf(datadir+'/1pcanom.nc')\n",
    "\n",
    "else:\n",
    "  ds_4x_anom=xr.open_dataset('/content/drive/MyDrive/colab_4xco2/a4xanom.nc')\n",
    "  ds_1pc_anom=xr.open_dataset('/content/drive/MyDrive/colab_4xco2/1pcanom.nc')"
   ]
  },
  {
   "cell_type": "code",
   "execution_count": null,
   "metadata": {
    "id": "dFEd8XjOFHlU"
   },
   "outputs": [],
   "source": [
    "X=ds_4x_anom.tas[0,:150,:,:]\n"
   ]
  },
  {
   "cell_type": "code",
   "execution_count": null,
   "metadata": {
    "colab": {
     "base_uri": "https://localhost:8080/"
    },
    "id": "pNJa_04zcTox",
    "outputId": "1f5bd7bb-20c7-4a0c-95bb-b1119f6e2455"
   },
   "outputs": [],
   "source": [
    "(ts,out,us,orgeof)=prpatt.get_timescales(X,[5,40,10000])\n",
    "ts"
   ]
  },
  {
   "cell_type": "code",
   "execution_count": null,
   "metadata": {
    "colab": {
     "base_uri": "https://localhost:8080/"
    },
    "id": "5zRjq1Fcp338",
    "outputId": "f948482b-b347-4bb8-c7e1-1017d89fa8bb"
   },
   "outputs": [],
   "source": [
    "np.tile(orgeof['s'].T,(150,1)).shape\n",
    "orgeof['u'].shape"
   ]
  },
  {
   "cell_type": "code",
   "execution_count": null,
   "metadata": {
    "colab": {
     "base_uri": "https://localhost:8080/",
     "height": 640
    },
    "id": "DyOBwvxwyY1_",
    "outputId": "99df0da3-70b4-4da2-ca80-7819044b586b"
   },
   "outputs": [],
   "source": [
    "p,ax=plt.subplots(3,1)\n",
    "p.set_size_inches(4,10)\n",
    "\n",
    "orgeof['v'][0,:,:].plot(ax=ax[0])\n",
    "orgeof['v'][1,:,:].plot(ax=ax[1])\n",
    "orgeof['v'][2,:,:].plot(ax=ax[2])\n"
   ]
  },
  {
   "cell_type": "code",
   "execution_count": null,
   "metadata": {
    "colab": {
     "base_uri": "https://localhost:8080/",
     "height": 283
    },
    "id": "OIN4a9COLj3o",
    "outputId": "1dbbd585-9ac2-4cef-fcb6-a4dded661512"
   },
   "outputs": [],
   "source": [
    "plt.plot(us)\n",
    "plt.plot(orgeof['u'])\n",
    "orgeof['u'].shape[0]"
   ]
  },
  {
   "cell_type": "code",
   "execution_count": null,
   "metadata": {
    "id": "GZ70kmrtbKra"
   },
   "outputs": [],
   "source": [
    "Xrp=prpatt.recon(orgeof)\n",
    "Xrs=prpatt.rmodel(orgeof,us)\n",
    "\n"
   ]
  },
  {
   "cell_type": "code",
   "execution_count": null,
   "metadata": {
    "colab": {
     "base_uri": "https://localhost:8080/",
     "height": 313
    },
    "id": "p9JVBfISeSMn",
    "outputId": "ac4dd431-c59a-47bf-fd16-3f7bdd902a8b"
   },
   "outputs": [],
   "source": [
    "X.weighted(prpatt.wgt(X)).mean(('lat','lon')).plot()\n",
    "Xrp.weighted(prpatt.wgt(X)).mean(('lat','lon')).plot()\n",
    "Xrs.weighted(prpatt.wgt(X)).mean(('lat','lon')).plot()\n",
    "\n"
   ]
  },
  {
   "cell_type": "code",
   "execution_count": null,
   "metadata": {
    "colab": {
     "base_uri": "https://localhost:8080/",
     "height": 532
    },
    "id": "BHcXJvY_zt3Q",
    "outputId": "ffc9f20d-9f26-4cd5-eefb-84aa50c2044d"
   },
   "outputs": [],
   "source": [
    "p,ax=plt.subplots(2,1)\n",
    "p.set_size_inches(4,8)\n",
    "Xrs[-1,:,:].plot(ax=ax[0])\n",
    "ax[0].set_title('emulated year 150 abrupt4x')\n",
    "X[-1,:,:].plot(ax=ax[1])\n",
    "ax[1].set_title('actual year 150 abrupt4x')\n"
   ]
  },
  {
   "cell_type": "code",
   "execution_count": null,
   "metadata": {
    "id": "mz4vNgwPQYnF"
   },
   "outputs": [],
   "source": [
    "f=np.arange(0,150)*5.35*np.log(1.01)\n",
    "Xu=prpatt.imodel_eof(out.params, f)\n",
    "Xf=prpatt.imodel_filter(out.params,f)\n",
    "Xsim=prpatt.rmodel(orgeof,Xf)"
   ]
  },
  {
   "cell_type": "code",
   "execution_count": null,
   "metadata": {
    "colab": {
     "base_uri": "https://localhost:8080/",
     "height": 313
    },
    "id": "v2oaw2D42UYZ",
    "outputId": "7b694040-2496-42f6-ca49-8f939294b1c5"
   },
   "outputs": [],
   "source": [
    "plt.plot(f)\n",
    "plt.ylabel(r'Wm$^{-2}$')\n",
    "plt.xlabel('year')\n",
    "plt.title('1pctCO2 forcing timeseries')"
   ]
  },
  {
   "cell_type": "code",
   "execution_count": null,
   "metadata": {
    "colab": {
     "base_uri": "https://localhost:8080/",
     "height": 320
    },
    "id": "PidI09UIBfro",
    "outputId": "3e0f5580-b179-40f6-b92e-80cadbb85532"
   },
   "outputs": [],
   "source": [
    "plt.plot(Xf[:])\n",
    "#plt.plot(Xu[:],'--')"
   ]
  },
  {
   "cell_type": "code",
   "execution_count": null,
   "metadata": {
    "id": "9wtjtqiQpe7w"
   },
   "outputs": [],
   "source": []
  },
  {
   "cell_type": "code",
   "execution_count": null,
   "metadata": {
    "colab": {
     "base_uri": "https://localhost:8080/",
     "height": 313
    },
    "id": "MjteO_DSjhHp",
    "outputId": "22190ab7-4472-400c-c9a0-c856e909aa0f"
   },
   "outputs": [],
   "source": [
    "p1=Xsim.weighted(prpatt.wgt(X)).mean(('lat','lon')).plot()\n",
    "Xact=ds_1pc_anom.tas[0,:150,:,:]\n",
    "\n",
    "p2=Xact.weighted(prpatt.wgt(X)).mean(('lat','lon')).plot()\n",
    "plt.ylabel(r'Wm$^{-2}$')\n",
    "plt.xlabel('year')\n",
    "plt.title('1pctCO2 global mean temperature response')\n",
    "plt.legend((p1[0],p2[0]),['Emulated','truth'])"
   ]
  },
  {
   "cell_type": "code",
   "execution_count": null,
   "metadata": {
    "colab": {
     "base_uri": "https://localhost:8080/",
     "height": 532
    },
    "id": "Sp8eDXza8aly",
    "outputId": "a17be18f-abdb-48f2-d492-1a2316ca284a"
   },
   "outputs": [],
   "source": [
    "p,ax=plt.subplots(2,1)\n",
    "p.set_size_inches(8,8)\n",
    "Xsim[-1,:,:].plot(ax=ax[0])\n",
    "ax[0].set_title('emulated year 150 1pctCO2')\n",
    "Xact[-1,:,:].plot(ax=ax[1])\n",
    "ax[1].set_title('actual year 150 1pctCO2')\n"
   ]
  },
  {
   "cell_type": "code",
   "execution_count": null,
   "metadata": {
    "colab": {
     "base_uri": "https://localhost:8080/",
     "height": 356
    },
    "id": "BEX8dDnhzRSy",
    "outputId": "4245ef0f-10cf-4892-fe3e-a14b69f46b32"
   },
   "outputs": [],
   "source": [
    "solver = Eof(X,center=False,weights=prpatt.wgt2(X))\n",
    "\n",
    "Xu.plot.line(x='time')\n",
    "ua=solver.projectField(Xact,neofs=4,eofscaling=1)\n",
    "ua.plot.line(x='time')\n"
   ]
  },
  {
   "cell_type": "code",
   "execution_count": null,
   "metadata": {
    "colab": {
     "base_uri": "https://localhost:8080/",
     "height": 416
    },
    "id": "rblj-nTHw-G6",
    "outputId": "72c48c88-f5f4-490e-e5fe-8f02d1215b20"
   },
   "outputs": [],
   "source": [
    "\n",
    "outscl=prpatt.adjust_timescales(X,Xact,out.params,ts,f)\n",
    "outscl"
   ]
  },
  {
   "cell_type": "code",
   "execution_count": null,
   "metadata": {
    "id": "2V-afJrhGYBk"
   },
   "outputs": [],
   "source": [
    "Xscl=prpatt.imodel_filter_scl(outscl.params,out.params,f)\n",
    "Xsimscl=prpatt.rmodel(orgeof,Xscl)"
   ]
  },
  {
   "cell_type": "code",
   "execution_count": null,
   "metadata": {
    "colab": {
     "base_uri": "https://localhost:8080/",
     "height": 313
    },
    "id": "sd5i7hHxGzTd",
    "outputId": "cf9a44c8-0547-478d-b0dd-893b1179484f"
   },
   "outputs": [],
   "source": [
    "p1=Xsim.weighted(prpatt.wgt(X)).mean(('lat','lon')).plot()\n",
    "Xact=ds_1pc_anom.tas[0,:150,:,:]\n",
    "\n",
    "p2=Xact.weighted(prpatt.wgt(X)).mean(('lat','lon')).plot()\n",
    "p3=Xsimscl.weighted(prpatt.wgt(X)).mean(('lat','lon')).plot()\n",
    "\n",
    "plt.ylabel(r'(K)')\n",
    "plt.xlabel('year')\n",
    "plt.title('1pctCO2 global mean temperature response')\n",
    "plt.legend((p1[0],p2[0],p3[0]),['Emulated (IR only)','truth','Emulated (IR + quadratic transform)'])"
   ]
  },
  {
   "cell_type": "code",
   "execution_count": null,
   "metadata": {
    "colab": {
     "base_uri": "https://localhost:8080/",
     "height": 190
    },
    "id": "E0ALFZPCduv7",
    "outputId": "75140a11-d4c2-467b-d411-2be428c6bad8"
   },
   "outputs": [],
   "source": [
    "Xu1=prpatt.imodel_eof(out1.params, f)\n",
    "Xsim1=prpatt.rmodel(orgeof1,Xu)"
   ]
  },
  {
   "cell_type": "code",
   "execution_count": null,
   "metadata": {
    "id": "1aivdKYvGy7Z"
   },
   "outputs": [],
   "source": []
  },
  {
   "cell_type": "code",
   "execution_count": null,
   "metadata": {
    "id": "9xZLLJakd9eS"
   },
   "outputs": [],
   "source": [
    "Xsim.weighted(prpatt.wgt(X)).mean(('lat','lon')).plot()\n",
    "Xact.weighted(prpatt.wgt(X)).mean(('lat','lon')).plot()\n",
    "Xsim1.weighted(prpatt.wgt(X)).mean(('lat','lon')).plot()\n"
   ]
  },
  {
   "cell_type": "code",
   "execution_count": null,
   "metadata": {
    "id": "2XFLes1o3Rn1"
   },
   "outputs": [],
   "source": [
    "inma=prpatt.imodel_filter(out.params, f, F0=7.41, y0=1850)"
   ]
  },
  {
   "cell_type": "code",
   "execution_count": null,
   "metadata": {
    "id": "nkpKXjipA4sN"
   },
   "outputs": [],
   "source": [
    "plt.plot(f+np.square(f)/10)"
   ]
  },
  {
   "cell_type": "code",
   "execution_count": null,
   "metadata": {
    "id": "ZoNWAyb8-Gk5"
   },
   "outputs": [],
   "source": [
    "inma.plot.line(x='time')"
   ]
  },
  {
   "cell_type": "code",
   "execution_count": null,
   "metadata": {
    "id": "pW2tQ7ZrSQIE"
   },
   "outputs": [],
   "source": []
  }
 ],
 "metadata": {
  "colab": {
   "collapsed_sections": [],
   "include_colab_link": true,
   "machine_shape": "hm",
   "name": "CMIP6_spatial_emulator.ipynb",
   "provenance": []
  },
  "kernelspec": {
   "display_name": "Python 3 (ipykernel)",
   "language": "python",
   "name": "python3"
  },
  "language_info": {
   "codemirror_mode": {
    "name": "ipython",
    "version": 3
   },
   "file_extension": ".py",
   "mimetype": "text/x-python",
   "name": "python",
   "nbconvert_exporter": "python",
   "pygments_lexer": "ipython3",
   "version": "3.9.12"
  }
 },
 "nbformat": 4,
 "nbformat_minor": 1
}
