{
 "cells": [
  {
   "cell_type": "markdown",
   "metadata": {
    "colab_type": "text",
    "id": "view-in-github"
   },
   "source": [
    "<a href=\"https://colab.research.google.com/github/benmsanderson/prpattern/blob/main/CMIP6_get_data.ipynb\" target=\"_parent\"><img src=\"https://colab.research.google.com/assets/colab-badge.svg\" alt=\"Open In Colab\"/></a>"
   ]
  },
  {
   "cell_type": "markdown",
   "metadata": {
    "id": "ibGzDNElOzhq"
   },
   "source": [
    "# 4xCO2 read data\n",
    "\n",
    "\n",
    "CMIP6"
   ]
  },
  {
   "cell_type": "code",
   "execution_count": 1,
   "metadata": {},
   "outputs": [],
   "source": [
    "expts=['1pctCO2','abrupt-4xCO2','piControl','historical','ssp126','ssp585']"
   ]
  },
  {
   "cell_type": "code",
   "execution_count": 2,
   "metadata": {},
   "outputs": [
    {
     "data": {
      "text/plain": [
       "2"
      ]
     },
     "execution_count": 2,
     "metadata": {},
     "output_type": "execute_result"
    }
   ],
   "source": [
    "expts.index('piControl')"
   ]
  },
  {
   "cell_type": "code",
   "execution_count": 1,
   "metadata": {
    "id": "W4fTIkDuBj-I"
   },
   "outputs": [],
   "source": [
    "readdata=1\n",
    "authdrive=1"
   ]
  },
  {
   "cell_type": "code",
   "execution_count": 23,
   "metadata": {},
   "outputs": [],
   "source": [
    "datadir='/content/drive/MyDrive/colab_4xco2'"
   ]
  },
  {
   "cell_type": "markdown",
   "metadata": {
    "id": "EGi7G5EmzrcG"
   },
   "source": [
    "Desired interpolation grid"
   ]
  },
  {
   "cell_type": "markdown",
   "metadata": {
    "id": "r-32Yp_fz4Gz"
   },
   "source": [
    "Desired experiments"
   ]
  },
  {
   "cell_type": "code",
   "execution_count": 3,
   "metadata": {
    "id": "bcDSbcN5kp-o"
   },
   "outputs": [],
   "source": [
    "flds=['tas']\n",
    "expts=['1pctCO2','abrupt-4xCO2','piControl','historical','ssp126','ssp585']\n",
    "calstrt=[True,True,True,False,False,False]\n",
    "dbe=['CMIP','CMIP','CMIP','CMIP','ScenarioMIP','ScenarioMIP']"
   ]
  },
  {
   "cell_type": "markdown",
   "metadata": {
    "id": "CUXOIoRvfbXn"
   },
   "source": [
    "Install some stuff"
   ]
  },
  {
   "cell_type": "code",
   "execution_count": 5,
   "metadata": {
    "colab": {
     "base_uri": "https://localhost:8080/"
    },
    "id": "UyVE585SCRmq",
    "outputId": "edbfc758-5423-48e9-ac74-61daea774c15"
   },
   "outputs": [
    {
     "name": "stdout",
     "output_type": "stream",
     "text": [
      "Collecting xarray\n",
      "  Using cached xarray-2022.3.0-py3-none-any.whl (870 kB)\n",
      "Collecting zarr\n",
      "  Using cached zarr-2.11.3-py3-none-any.whl (153 kB)\n",
      "Collecting gcsfs\n",
      "  Using cached gcsfs-2022.3.0-py2.py3-none-any.whl (25 kB)\n",
      "Collecting cftime\n",
      "  Using cached cftime-1.6.0-cp38-cp38-manylinux_2_17_x86_64.manylinux2014_x86_64.whl (238 kB)\n",
      "Collecting nc-time-axis\n",
      "  Downloading nc_time_axis-1.4.1-py3-none-any.whl (17 kB)\n",
      "Collecting progress\n",
      "  Downloading progress-1.6.tar.gz (7.8 kB)\n",
      "Requirement already satisfied, skipping upgrade: packaging>=20.0 in /home/sanderson/.local/lib/python3.8/site-packages (from xarray) (21.2)\n",
      "Requirement already satisfied, skipping upgrade: numpy>=1.18 in /usr/local/lib/python3.8/dist-packages/numpy-1.22.1-py3.8-linux-x86_64.egg (from xarray) (1.22.1)\n",
      "Requirement already satisfied, skipping upgrade: pandas>=1.1 in /home/sanderson/.local/lib/python3.8/site-packages (from xarray) (1.2.0)\n",
      "Collecting numcodecs>=0.6.4\n",
      "  Downloading numcodecs-0.9.1-cp38-cp38-manylinux2010_x86_64.whl (6.4 MB)\n",
      "\u001b[K     |████████████████████████████████| 6.4 MB 5.2 MB/s eta 0:00:01\n",
      "\u001b[?25hCollecting fasteners\n",
      "  Downloading fasteners-0.17.3-py3-none-any.whl (18 kB)\n",
      "Collecting asciitree\n",
      "  Downloading asciitree-0.3.3.tar.gz (4.0 kB)\n",
      "Collecting google-auth>=1.2\n",
      "  Downloading google_auth-2.6.6-py2.py3-none-any.whl (156 kB)\n",
      "\u001b[K     |████████████████████████████████| 156 kB 65.7 MB/s eta 0:00:01\n",
      "\u001b[?25hCollecting google-cloud-storage\n",
      "  Downloading google_cloud_storage-2.3.0-py2.py3-none-any.whl (107 kB)\n",
      "\u001b[K     |████████████████████████████████| 107 kB 60.6 MB/s eta 0:00:01\n",
      "\u001b[?25hCollecting aiohttp<4\n",
      "  Downloading aiohttp-3.8.1-cp38-cp38-manylinux_2_5_x86_64.manylinux1_x86_64.manylinux_2_12_x86_64.manylinux2010_x86_64.whl (1.3 MB)\n",
      "\u001b[K     |████████████████████████████████| 1.3 MB 68.0 MB/s eta 0:00:01\n",
      "\u001b[?25hCollecting google-auth-oauthlib\n",
      "  Downloading google_auth_oauthlib-0.5.1-py2.py3-none-any.whl (19 kB)\n",
      "Requirement already satisfied, skipping upgrade: requests in /home/sanderson/.local/lib/python3.8/site-packages (from gcsfs) (2.27.1)\n",
      "Requirement already satisfied, skipping upgrade: decorator>4.1.2 in /usr/lib/python3/dist-packages (from gcsfs) (4.4.2)\n",
      "Collecting fsspec==2022.3.0\n",
      "  Downloading fsspec-2022.3.0-py3-none-any.whl (136 kB)\n",
      "\u001b[K     |████████████████████████████████| 136 kB 72.4 MB/s eta 0:00:01\n",
      "\u001b[?25hRequirement already satisfied, skipping upgrade: matplotlib in /home/sanderson/.local/lib/python3.8/site-packages (from nc-time-axis) (3.5.1)\n",
      "Requirement already satisfied, skipping upgrade: pyparsing<3,>=2.0.2 in /home/sanderson/.local/lib/python3.8/site-packages (from packaging>=20.0->xarray) (2.4.7)\n",
      "Requirement already satisfied, skipping upgrade: pytz>=2017.3 in /home/sanderson/.local/lib/python3.8/site-packages (from pandas>=1.1->xarray) (2021.3)\n",
      "Requirement already satisfied, skipping upgrade: python-dateutil>=2.7.3 in /home/sanderson/.local/lib/python3.8/site-packages (from pandas>=1.1->xarray) (2.8.2)\n",
      "Requirement already satisfied, skipping upgrade: six>=1.9.0 in /usr/lib/python3/dist-packages (from google-auth>=1.2->gcsfs) (1.14.0)\n",
      "Collecting pyasn1-modules>=0.2.1\n",
      "  Downloading pyasn1_modules-0.2.8-py2.py3-none-any.whl (155 kB)\n",
      "\u001b[K     |████████████████████████████████| 155 kB 72.8 MB/s eta 0:00:01\n",
      "\u001b[?25hCollecting rsa<5,>=3.1.4; python_version >= \"3.6\"\n",
      "  Downloading rsa-4.8-py3-none-any.whl (39 kB)\n",
      "Collecting cachetools<6.0,>=2.0.0\n",
      "  Downloading cachetools-5.1.0-py3-none-any.whl (9.2 kB)\n",
      "Collecting google-api-core!=2.0.*,!=2.1.*,!=2.2.*,!=2.3.0,<3.0.0dev,>=1.31.5\n",
      "  Downloading google_api_core-2.7.3-py3-none-any.whl (114 kB)\n",
      "\u001b[K     |████████████████████████████████| 114 kB 44.5 MB/s eta 0:00:01\n",
      "\u001b[?25hCollecting google-resumable-media>=2.3.2\n",
      "  Downloading google_resumable_media-2.3.2-py2.py3-none-any.whl (76 kB)\n",
      "\u001b[K     |████████████████████████████████| 76 kB 5.5 MB/s  eta 0:00:01\n",
      "\u001b[?25hCollecting protobuf\n",
      "  Downloading protobuf-3.20.1-cp38-cp38-manylinux_2_5_x86_64.manylinux1_x86_64.whl (1.0 MB)\n",
      "\u001b[K     |████████████████████████████████| 1.0 MB 68.8 MB/s eta 0:00:01\n",
      "\u001b[?25hCollecting google-cloud-core<3.0dev,>=2.3.0\n",
      "  Downloading google_cloud_core-2.3.0-py2.py3-none-any.whl (29 kB)\n",
      "Collecting yarl<2.0,>=1.0\n",
      "  Downloading yarl-1.7.2-cp38-cp38-manylinux_2_5_x86_64.manylinux1_x86_64.manylinux_2_12_x86_64.manylinux2010_x86_64.whl (308 kB)\n",
      "\u001b[K     |████████████████████████████████| 308 kB 44.2 MB/s eta 0:00:01\n",
      "\u001b[?25hCollecting async-timeout<5.0,>=4.0.0a3\n",
      "  Downloading async_timeout-4.0.2-py3-none-any.whl (5.8 kB)\n",
      "Collecting multidict<7.0,>=4.5\n",
      "  Downloading multidict-6.0.2-cp38-cp38-manylinux_2_17_x86_64.manylinux2014_x86_64.whl (121 kB)\n",
      "\u001b[K     |████████████████████████████████| 121 kB 49.6 MB/s eta 0:00:01\n",
      "\u001b[?25hCollecting frozenlist>=1.1.1\n",
      "  Downloading frozenlist-1.3.0-cp38-cp38-manylinux_2_5_x86_64.manylinux1_x86_64.manylinux_2_17_x86_64.manylinux2014_x86_64.whl (158 kB)\n",
      "\u001b[K     |████████████████████████████████| 158 kB 66.1 MB/s eta 0:00:01\n",
      "\u001b[?25hRequirement already satisfied, skipping upgrade: attrs>=17.3.0 in /home/sanderson/.local/lib/python3.8/site-packages (from aiohttp<4->gcsfs) (21.4.0)\n",
      "Collecting aiosignal>=1.1.2\n",
      "  Downloading aiosignal-1.2.0-py3-none-any.whl (8.2 kB)\n",
      "Requirement already satisfied, skipping upgrade: charset-normalizer<3.0,>=2.0 in /home/sanderson/.local/lib/python3.8/site-packages (from aiohttp<4->gcsfs) (2.0.12)\n",
      "Collecting requests-oauthlib>=0.7.0\n",
      "  Downloading requests_oauthlib-1.3.1-py2.py3-none-any.whl (23 kB)\n",
      "Requirement already satisfied, skipping upgrade: certifi>=2017.4.17 in /home/sanderson/.local/lib/python3.8/site-packages (from requests->gcsfs) (2021.10.8)\n",
      "Requirement already satisfied, skipping upgrade: idna<4,>=2.5; python_version >= \"3\" in /home/sanderson/.local/lib/python3.8/site-packages (from requests->gcsfs) (3.3)\n",
      "Requirement already satisfied, skipping upgrade: urllib3<1.27,>=1.21.1 in /home/sanderson/.local/lib/python3.8/site-packages (from requests->gcsfs) (1.26.8)\n",
      "Requirement already satisfied, skipping upgrade: fonttools>=4.22.0 in /home/sanderson/.local/lib/python3.8/site-packages (from matplotlib->nc-time-axis) (4.29.1)\n",
      "Requirement already satisfied, skipping upgrade: cycler>=0.10 in /home/sanderson/.local/lib/python3.8/site-packages (from matplotlib->nc-time-axis) (0.11.0)\n",
      "Requirement already satisfied, skipping upgrade: pillow>=6.2.0 in /home/sanderson/.local/lib/python3.8/site-packages (from matplotlib->nc-time-axis) (9.0.1)\n",
      "Requirement already satisfied, skipping upgrade: kiwisolver>=1.0.1 in /home/sanderson/.local/lib/python3.8/site-packages (from matplotlib->nc-time-axis) (1.3.2)\n",
      "Collecting pyasn1<0.5.0,>=0.4.6\n",
      "  Downloading pyasn1-0.4.8-py2.py3-none-any.whl (77 kB)\n",
      "\u001b[K     |████████████████████████████████| 77 kB 5.8 MB/s  eta 0:00:01\n",
      "\u001b[?25hCollecting googleapis-common-protos<2.0dev,>=1.52.0\n",
      "  Downloading googleapis_common_protos-1.56.1-py2.py3-none-any.whl (211 kB)\n",
      "\u001b[K     |████████████████████████████████| 211 kB 56.5 MB/s eta 0:00:01\n",
      "\u001b[?25hCollecting google-crc32c<2.0dev,>=1.0\n",
      "  Downloading google_crc32c-1.3.0-cp38-cp38-manylinux_2_12_x86_64.manylinux2010_x86_64.whl (37 kB)\n",
      "Collecting oauthlib>=3.0.0\n",
      "  Downloading oauthlib-3.2.0-py3-none-any.whl (151 kB)\n",
      "\u001b[K     |████████████████████████████████| 151 kB 69.7 MB/s eta 0:00:01\n",
      "\u001b[?25hBuilding wheels for collected packages: progress, asciitree\n",
      "  Building wheel for progress (setup.py) ... \u001b[?25ldone\n",
      "\u001b[?25h  Created wheel for progress: filename=progress-1.6-py3-none-any.whl size=9615 sha256=4cacd92411924e1fd8c741261d113260774720875ab4b4cbb58748c9b18b2bf7\n",
      "  Stored in directory: /home/sanderson/.cache/pip/wheels/bb/01/5a/c916509df9b12c6465864251dbe826def8e31a16fa7da54f08\n",
      "  Building wheel for asciitree (setup.py) ... \u001b[?25ldone\n",
      "\u001b[?25h  Created wheel for asciitree: filename=asciitree-0.3.3-py3-none-any.whl size=5035 sha256=fed5ebb159dc1481e5f10865206f12a849a02df4aafea2beed897821191e1af8\n",
      "  Stored in directory: /home/sanderson/.cache/pip/wheels/a3/d7/75/19cd0d2a893cad4bb0b2b16dd572ad2916d19c0d5ee9612511\n",
      "Successfully built progress asciitree\n",
      "Installing collected packages: xarray, numcodecs, fasteners, asciitree, zarr, pyasn1, pyasn1-modules, rsa, cachetools, google-auth, protobuf, googleapis-common-protos, google-api-core, google-crc32c, google-resumable-media, google-cloud-core, google-cloud-storage, multidict, yarl, async-timeout, frozenlist, aiosignal, aiohttp, oauthlib, requests-oauthlib, google-auth-oauthlib, fsspec, gcsfs, cftime, nc-time-axis, progress\n"
     ]
    },
    {
     "name": "stdout",
     "output_type": "stream",
     "text": [
      "Successfully installed aiohttp-3.8.1 aiosignal-1.2.0 asciitree-0.3.3 async-timeout-4.0.2 cachetools-5.1.0 cftime-1.6.0 fasteners-0.17.3 frozenlist-1.3.0 fsspec-2022.3.0 gcsfs-2022.3.0 google-api-core-2.7.3 google-auth-2.6.6 google-auth-oauthlib-0.5.1 google-cloud-core-2.3.0 google-cloud-storage-2.3.0 google-crc32c-1.3.0 google-resumable-media-2.3.2 googleapis-common-protos-1.56.1 multidict-6.0.2 nc-time-axis-1.4.1 numcodecs-0.9.1 oauthlib-3.2.0 progress-1.6 protobuf-3.20.1 pyasn1-0.4.8 pyasn1-modules-0.2.8 requests-oauthlib-1.3.1 rsa-4.8 xarray-2022.3.0 yarl-1.7.2 zarr-2.11.3\r\n"
     ]
    }
   ],
   "source": [
    "!pip install --upgrade xarray zarr gcsfs cftime  nc-time-axis progress"
   ]
  },
  {
   "cell_type": "markdown",
   "metadata": {
    "id": "Qg99d58j0JjT"
   },
   "source": [
    "Import stuff"
   ]
  },
  {
   "cell_type": "code",
   "execution_count": 10,
   "metadata": {
    "colab": {
     "base_uri": "https://localhost:8080/"
    },
    "id": "aH3VEYX-Ozht",
    "outputId": "2915f3da-4470-4b3d-99cd-d395878b9e8b"
   },
   "outputs": [],
   "source": [
    "from matplotlib import pyplot as plt\n",
    "import numpy as np\n",
    "import numpy.matlib\n",
    "import pandas as pd\n",
    "import xarray as xr\n",
    "import zarr\n",
    "import gcsfs\n",
    "import pickle\n",
    "import cftime\n",
    "from sys import getsizeof\n",
    "from IPython.display import HTML, display\n",
    "import time\n",
    "\n",
    "#code for pretty progress bars\n",
    "def progress(value, max=100):\n",
    "    return HTML(\"\"\"\n",
    "        <progress\n",
    "            value='{value}'\n",
    "            max='{max}',\n",
    "            style='width: 100%'\n",
    "        >\n",
    "            {value}\n",
    "        </progress>\n",
    "    \"\"\".format(value=value, max=max))\n"
   ]
  },
  {
   "cell_type": "code",
   "execution_count": 11,
   "metadata": {
    "id": "wJe1cbeujNAt"
   },
   "outputs": [],
   "source": [
    "lon_out=np.arange(1,359,2)\n",
    "lat_out=np.arange(-89,89,2)\n",
    "lons_sub, lats_sub = np.meshgrid(lon_out,lat_out)"
   ]
  },
  {
   "cell_type": "markdown",
   "metadata": {
    "id": "ss9_lR75Ozhz"
   },
   "source": [
    "## Browse Catalog\n",
    "\n",
    "The data catatalog is stored as a CSV file. Here we read it with Pandas."
   ]
  },
  {
   "cell_type": "code",
   "execution_count": 12,
   "metadata": {
    "id": "PCXMl4MxOzh0"
   },
   "outputs": [],
   "source": [
    "df = pd.read_csv('https://storage.googleapis.com/cmip6/cmip6-zarr-consolidated-stores.csv', low_memory=False)"
   ]
  },
  {
   "cell_type": "markdown",
   "metadata": {
    "id": "ZBx9e0yoOzh4"
   },
   "source": [
    "Variables and experiments in database"
   ]
  },
  {
   "cell_type": "code",
   "execution_count": 13,
   "metadata": {
    "id": "63MbtACruzl0"
   },
   "outputs": [],
   "source": [
    "vars=df.variable_id.unique()\n",
    "vars.sort()\n",
    "expts_full=df.experiment_id.unique()\n",
    "expts_full.sort()\n",
    "\n",
    "flds_full=df.variable_id.unique()\n",
    "flds_full.sort()"
   ]
  },
  {
   "cell_type": "code",
   "execution_count": 14,
   "metadata": {
    "colab": {
     "base_uri": "https://localhost:8080/",
     "height": 175
    },
    "id": "KycTNEOHDE48",
    "outputId": "d5f2d77c-80a6-453e-d046-ee1920f7fb09"
   },
   "outputs": [
    {
     "data": {
      "text/html": [
       "<div>\n",
       "<style scoped>\n",
       "    .dataframe tbody tr th:only-of-type {\n",
       "        vertical-align: middle;\n",
       "    }\n",
       "\n",
       "    .dataframe tbody tr th {\n",
       "        vertical-align: top;\n",
       "    }\n",
       "\n",
       "    .dataframe thead th {\n",
       "        text-align: right;\n",
       "    }\n",
       "</style>\n",
       "<table border=\"1\" class=\"dataframe\">\n",
       "  <thead>\n",
       "    <tr style=\"text-align: right;\">\n",
       "      <th></th>\n",
       "      <th>activity_id</th>\n",
       "      <th>institution_id</th>\n",
       "      <th>source_id</th>\n",
       "      <th>experiment_id</th>\n",
       "      <th>member_id</th>\n",
       "      <th>table_id</th>\n",
       "      <th>variable_id</th>\n",
       "      <th>grid_label</th>\n",
       "      <th>zstore</th>\n",
       "      <th>dcpp_init_year</th>\n",
       "      <th>version</th>\n",
       "    </tr>\n",
       "  </thead>\n",
       "  <tbody>\n",
       "    <tr>\n",
       "      <th>241987</th>\n",
       "      <td>C4MIP</td>\n",
       "      <td>CNRM-CERFACS</td>\n",
       "      <td>CNRM-ESM2-1</td>\n",
       "      <td>ssp585-bgc</td>\n",
       "      <td>r1i1p1f2</td>\n",
       "      <td>Omon</td>\n",
       "      <td>fgco2</td>\n",
       "      <td>gn</td>\n",
       "      <td>gs://cmip6/CMIP6/C4MIP/CNRM-CERFACS/CNRM-ESM2-...</td>\n",
       "      <td>NaN</td>\n",
       "      <td>20190711</td>\n",
       "    </tr>\n",
       "    <tr>\n",
       "      <th>409547</th>\n",
       "      <td>C4MIP</td>\n",
       "      <td>MIROC</td>\n",
       "      <td>MIROC-ES2L</td>\n",
       "      <td>ssp585-bgc</td>\n",
       "      <td>r1i1p1f2</td>\n",
       "      <td>Omon</td>\n",
       "      <td>fgco2</td>\n",
       "      <td>gn</td>\n",
       "      <td>gs://cmip6/CMIP6/C4MIP/MIROC/MIROC-ES2L/ssp585...</td>\n",
       "      <td>NaN</td>\n",
       "      <td>20200124</td>\n",
       "    </tr>\n",
       "    <tr>\n",
       "      <th>464151</th>\n",
       "      <td>C4MIP</td>\n",
       "      <td>MIROC</td>\n",
       "      <td>MIROC-ES2L</td>\n",
       "      <td>ssp585-bgc</td>\n",
       "      <td>r1i1p1f2</td>\n",
       "      <td>Omon</td>\n",
       "      <td>fgco2</td>\n",
       "      <td>gr1</td>\n",
       "      <td>gs://cmip6/CMIP6/C4MIP/MIROC/MIROC-ES2L/ssp585...</td>\n",
       "      <td>NaN</td>\n",
       "      <td>20200731</td>\n",
       "    </tr>\n",
       "    <tr>\n",
       "      <th>497096</th>\n",
       "      <td>C4MIP</td>\n",
       "      <td>CSIRO</td>\n",
       "      <td>ACCESS-ESM1-5</td>\n",
       "      <td>ssp585-bgc</td>\n",
       "      <td>r1i1p1f1</td>\n",
       "      <td>Omon</td>\n",
       "      <td>fgco2</td>\n",
       "      <td>gn</td>\n",
       "      <td>gs://cmip6/CMIP6/C4MIP/CSIRO/ACCESS-ESM1-5/ssp...</td>\n",
       "      <td>NaN</td>\n",
       "      <td>20201016</td>\n",
       "    </tr>\n",
       "  </tbody>\n",
       "</table>\n",
       "</div>"
      ],
      "text/plain": [
       "       activity_id institution_id      source_id experiment_id member_id  \\\n",
       "241987       C4MIP   CNRM-CERFACS    CNRM-ESM2-1    ssp585-bgc  r1i1p1f2   \n",
       "409547       C4MIP          MIROC     MIROC-ES2L    ssp585-bgc  r1i1p1f2   \n",
       "464151       C4MIP          MIROC     MIROC-ES2L    ssp585-bgc  r1i1p1f2   \n",
       "497096       C4MIP          CSIRO  ACCESS-ESM1-5    ssp585-bgc  r1i1p1f1   \n",
       "\n",
       "       table_id variable_id grid_label  \\\n",
       "241987     Omon       fgco2         gn   \n",
       "409547     Omon       fgco2         gn   \n",
       "464151     Omon       fgco2        gr1   \n",
       "497096     Omon       fgco2         gn   \n",
       "\n",
       "                                                   zstore  dcpp_init_year  \\\n",
       "241987  gs://cmip6/CMIP6/C4MIP/CNRM-CERFACS/CNRM-ESM2-...             NaN   \n",
       "409547  gs://cmip6/CMIP6/C4MIP/MIROC/MIROC-ES2L/ssp585...             NaN   \n",
       "464151  gs://cmip6/CMIP6/C4MIP/MIROC/MIROC-ES2L/ssp585...             NaN   \n",
       "497096  gs://cmip6/CMIP6/C4MIP/CSIRO/ACCESS-ESM1-5/ssp...             NaN   \n",
       "\n",
       "         version  \n",
       "241987  20190711  \n",
       "409547  20200124  \n",
       "464151  20200731  \n",
       "497096  20201016  "
      ]
     },
     "execution_count": 14,
     "metadata": {},
     "output_type": "execute_result"
    }
   ],
   "source": [
    "df[(df[\"experiment_id\"] == 'ssp585-bgc') & (df[\"variable_id\"]=='fgco2')]"
   ]
  },
  {
   "cell_type": "markdown",
   "metadata": {
    "id": "T0VMdjW1iDci"
   },
   "source": [
    "Make dataframe for each experiment type and each field"
   ]
  },
  {
   "cell_type": "code",
   "execution_count": 15,
   "metadata": {
    "id": "7CtTfLX4l55-"
   },
   "outputs": [],
   "source": [
    "df_all1=[]\n",
    "for i, row in enumerate(expts):\n",
    "  df_ta1=[]\n",
    "  for j,fld in enumerate(flds):\n",
    "    tmp = df.query(\"activity_id=='\"+dbe[i]+\"' & table_id == 'Amon' & variable_id == '\"+fld+\"' & experiment_id == '\"+expts[i]+\"'\")\n",
    "    df_ta1.append(tmp)\n",
    "  df_all1.append(df_ta1)"
   ]
  },
  {
   "cell_type": "markdown",
   "metadata": {
    "id": "DHjMWI1vncVA"
   },
   "source": [
    "Isolate unique models which have completed 4xco2"
   ]
  },
  {
   "cell_type": "code",
   "execution_count": 16,
   "metadata": {
    "colab": {
     "base_uri": "https://localhost:8080/"
    },
    "id": "Us6_WU0unYZ9",
    "outputId": "a6873ea3-adbe-4a52-9712-2af7753ace7d"
   },
   "outputs": [
    {
     "data": {
      "text/plain": [
       "array(['ACCESS-CM2', 'ACCESS-ESM1-5', 'AWI-CM-1-1-MR', 'AWI-ESM-1-1-LR',\n",
       "       'BCC-CSM2-MR', 'BCC-ESM1', 'CAMS-CSM1-0', 'CAS-ESM2-0', 'CESM2',\n",
       "       'CESM2-FV2', 'CESM2-WACCM', 'CESM2-WACCM-FV2', 'CIESM',\n",
       "       'CMCC-CM2-HR4', 'CMCC-CM2-SR5', 'CMCC-ESM2', 'CNRM-CM6-1',\n",
       "       'CNRM-CM6-1-HR', 'CNRM-ESM2-1', 'CanESM5', 'CanESM5-CanOE',\n",
       "       'E3SM-1-0', 'EC-Earth3', 'EC-Earth3-AerChem', 'EC-Earth3-CC',\n",
       "       'EC-Earth3-Veg', 'FGOALS-f3-L', 'FGOALS-g3', 'FIO-ESM-2-0',\n",
       "       'GFDL-CM4', 'GFDL-ESM4', 'GISS-E2-1-G', 'GISS-E2-1-H',\n",
       "       'GISS-E2-2-G', 'GISS-E2-2-H', 'HadGEM3-GC31-LL', 'HadGEM3-GC31-MM',\n",
       "       'ICON-ESM-LR', 'IITM-ESM', 'INM-CM4-8', 'INM-CM5-0',\n",
       "       'IPSL-CM5A2-INCA', 'IPSL-CM6A-LR', 'KACE-1-0-G', 'KIOST-ESM',\n",
       "       'MCM-UA-1-0', 'MIROC-ES2L', 'MIROC6', 'MPI-ESM-1-2-HAM',\n",
       "       'MPI-ESM1-2-HR', 'MPI-ESM1-2-LR', 'MRI-ESM2-0', 'NESM3', 'NorCPM1',\n",
       "       'NorESM2-LM', 'NorESM2-MM', 'SAM0-UNICON', 'TaiESM1',\n",
       "       'UKESM1-0-LL'], dtype=object)"
      ]
     },
     "execution_count": 16,
     "metadata": {},
     "output_type": "execute_result"
    }
   ],
   "source": [
    "mdls1=df_all1[0][0].source_id.unique()\n",
    "mdls1.sort()\n",
    "mdls1"
   ]
  },
  {
   "cell_type": "markdown",
   "metadata": {
    "id": "3icBRk1HoVBy"
   },
   "source": [
    "Make some empty dataframes to store concise list"
   ]
  },
  {
   "cell_type": "code",
   "execution_count": 17,
   "metadata": {
    "id": "ioN3qmZGoSCF"
   },
   "outputs": [],
   "source": [
    "cnames=df_all1[0][0].columns\n",
    "df_all=[]\n",
    "for i, exp in enumerate(expts):\n",
    "  tmp=[]\n",
    "  for j,fld  in enumerate(flds):\n",
    "    tmp.append(pd.DataFrame(columns=cnames))\n",
    "  df_all.append(tmp)"
   ]
  },
  {
   "cell_type": "markdown",
   "metadata": {
    "id": "quwfwHOnnz0O"
   },
   "source": [
    "Now get 1 ensemble member for each model, if it exists, for each experiment.  Only add to dataframe df_ta if we have a full set of experiments"
   ]
  },
  {
   "cell_type": "code",
   "execution_count": 18,
   "metadata": {
    "id": "dSGZ2KhdSjAK"
   },
   "outputs": [],
   "source": [
    "mdls=[]\n",
    "n=0\n",
    "for j, mdl in enumerate(mdls1):\n",
    "    tmpdf=[]\n",
    "    nruns=[]\n",
    "    for i, ext in enumerate(expts):\n",
    "        #find first variable for expt/model\n",
    "        for j, fld in enumerate(flds):\n",
    "          tmp=df_all1[i][j].query(\"source_id=='\"+mdl+\"'\")\n",
    "          nruns.append(tmp.shape[0])\n",
    "    #is there at least 1 run per experiment,with all fields?\n",
    "    if min(nruns)>=1:\n",
    "      #point to the entry for 1st run, first variable for each expt\n",
    "      for i, ext in enumerate(expts):\n",
    "        mmb=df_all1[i][0]['member_id'].values[0]\n",
    "        for j, fld in enumerate(flds):\n",
    "          tt = df_all1[i][j].query(\"source_id=='\"+mdl+\"' & table_id == 'Amon'\")\n",
    "          df_all[i][j].loc[n]=tt.values[0]\n",
    "      #add model to final list\n",
    "      mdls.append(mdl)\n",
    "      n=n+1\n",
    "    \n",
    "    "
   ]
  },
  {
   "cell_type": "code",
   "execution_count": 24,
   "metadata": {
    "id": "BKNquVyb0t_5"
   },
   "outputs": [],
   "source": [
    "pickle.dump(mdls, open( datadir+\"/mdls.pkl\", \"wb\" ) )\n"
   ]
  },
  {
   "cell_type": "code",
   "execution_count": 25,
   "metadata": {
    "colab": {
     "base_uri": "https://localhost:8080/"
    },
    "id": "0JF0kmnB9Oky",
    "outputId": "8c964a5f-696d-4f13-8efd-bb25a880199f"
   },
   "outputs": [
    {
     "data": {
      "text/plain": [
       "<pandas.core.indexing._LocIndexer at 0x7f0af7935130>"
      ]
     },
     "execution_count": 25,
     "metadata": {},
     "output_type": "execute_result"
    }
   ],
   "source": [
    "df_all[1][2].loc(1)"
   ]
  },
  {
   "cell_type": "markdown",
   "metadata": {
    "id": "ba_I8sSUOzh_"
   },
   "source": [
    "## Load Data\n",
    "\n",
    "Load Google file system\n"
   ]
  },
  {
   "cell_type": "code",
   "execution_count": 26,
   "metadata": {
    "id": "Pgaz1EanjJ9Z"
   },
   "outputs": [],
   "source": [
    "# load Google cloud storage\n",
    "gcs = gcsfs.GCSFileSystem(token='anon')"
   ]
  },
  {
   "cell_type": "markdown",
   "metadata": {
    "id": "t4wZnv7uLSin"
   },
   "source": [
    "Loop through zstore links, use zarr to open\n"
   ]
  },
  {
   "cell_type": "code",
   "execution_count": 27,
   "metadata": {
    "id": "MkCBd3z2-mCX"
   },
   "outputs": [],
   "source": [
    "nm=len(mdls)\n",
    "nf=len(flds)\n",
    "ne=len(expts)"
   ]
  },
  {
   "cell_type": "code",
   "execution_count": null,
   "metadata": {
    "colab": {
     "base_uri": "https://localhost:8080/",
     "height": 451
    },
    "id": "zGB4t5rGLmqf",
    "outputId": "5dca02ab-bfb9-4265-bd7e-f11c5750f1c5"
   },
   "outputs": [
    {
     "data": {
      "text/html": [
       "\n",
       "        <progress\n",
       "            value='300'\n",
       "            max='816',\n",
       "            style='width: 100%'\n",
       "        >\n",
       "            300\n",
       "        </progress>\n",
       "    "
      ],
      "text/plain": [
       "<IPython.core.display.HTML object>"
      ]
     },
     "metadata": {},
     "output_type": "display_data"
    },
    {
     "name": "stdout",
     "output_type": "stream",
     "text": [
      "1pctCO2,tas\n",
      "1pctCO2,rsut\n",
      "1pctCO2,rlut\n",
      "1pctCO2,rsdt\n",
      "abrupt-4xCO2,tas\n",
      "abrupt-4xCO2,rsut\n",
      "abrupt-4xCO2,rlut\n",
      "abrupt-4xCO2,rsdt\n",
      "piControl,tas\n"
     ]
    }
   ],
   "source": [
    "\n",
    "if readdata:\n",
    "  out = display(progress(0, 1), display_id=True)\n",
    "  dsall=[]\n",
    "  for i,df_ta in enumerate(df_all):\n",
    "\n",
    "    dsm=[]\n",
    "    for j,df in enumerate(df_ta):\n",
    "      ds=[]\n",
    "      print(expts[i]+','+flds[j])\n",
    "      for index, item in enumerate(df.zstore.values, start=0):\n",
    "        mapper=gcs.get_mapper(item)\n",
    "        ds.append(xr.open_zarr(mapper, decode_times=False))\n",
    "        out.update(progress(index+j*nm+i*nm*nf, ne*nm*nf))\n",
    "      dsm.append(ds)\n",
    "    dsall.append(dsm)  "
   ]
  },
  {
   "cell_type": "markdown",
   "metadata": {
    "id": "FJa7zj5MHbDX"
   },
   "source": [
    "concatenated dataarrays for ts, global mean\n"
   ]
  },
  {
   "cell_type": "code",
   "execution_count": null,
   "metadata": {
    "colab": {
     "base_uri": "https://localhost:8080/",
     "height": 729
    },
    "id": "nWZFFT8fNoVB",
    "outputId": "f74dc2ec-da2a-4105-b29a-4cc0622d0a9a"
   },
   "outputs": [
    {
     "data": {
      "text/html": [
       "\n",
       "        <progress\n",
       "            value='815'\n",
       "            max='816',\n",
       "            style='width: 100%'\n",
       "        >\n",
       "            815\n",
       "        </progress>\n",
       "    "
      ],
      "text/plain": [
       "<IPython.core.display.HTML object>"
      ]
     },
     "metadata": {},
     "output_type": "display_data"
    },
    {
     "name": "stdout",
     "output_type": "stream",
     "text": [
      "1pctCO2,tas\n",
      "1pctCO2,rsut\n",
      "1pctCO2,rlut\n",
      "1pctCO2,rsdt\n",
      "abrupt-4xCO2,tas\n",
      "abrupt-4xCO2,rsut\n",
      "abrupt-4xCO2,rlut\n",
      "abrupt-4xCO2,rsdt\n",
      "piControl,tas\n",
      "piControl,rsut\n",
      "piControl,rlut\n",
      "piControl,rsdt\n",
      "historical,tas\n"
     ]
    },
    {
     "name": "stderr",
     "output_type": "stream",
     "text": [
      "/usr/local/lib/python3.7/dist-packages/dask/array/core.py:3908: PerformanceWarning: Increasing number of chunks by factor of 14\n",
      "  **blockwise_kwargs,\n"
     ]
    },
    {
     "name": "stdout",
     "output_type": "stream",
     "text": [
      "historical,rsut\n"
     ]
    },
    {
     "name": "stderr",
     "output_type": "stream",
     "text": [
      "/usr/local/lib/python3.7/dist-packages/dask/array/core.py:3908: PerformanceWarning: Increasing number of chunks by factor of 14\n",
      "  **blockwise_kwargs,\n"
     ]
    },
    {
     "name": "stdout",
     "output_type": "stream",
     "text": [
      "historical,rlut\n"
     ]
    },
    {
     "name": "stderr",
     "output_type": "stream",
     "text": [
      "/usr/local/lib/python3.7/dist-packages/dask/array/core.py:3908: PerformanceWarning: Increasing number of chunks by factor of 14\n",
      "  **blockwise_kwargs,\n"
     ]
    },
    {
     "name": "stdout",
     "output_type": "stream",
     "text": [
      "historical,rsdt\n"
     ]
    },
    {
     "name": "stderr",
     "output_type": "stream",
     "text": [
      "/usr/local/lib/python3.7/dist-packages/dask/array/core.py:3908: PerformanceWarning: Increasing number of chunks by factor of 14\n",
      "  **blockwise_kwargs,\n"
     ]
    },
    {
     "name": "stdout",
     "output_type": "stream",
     "text": [
      "ssp126,tas\n"
     ]
    },
    {
     "name": "stderr",
     "output_type": "stream",
     "text": [
      "/usr/local/lib/python3.7/dist-packages/dask/array/core.py:3908: PerformanceWarning: Increasing number of chunks by factor of 11\n",
      "  **blockwise_kwargs,\n"
     ]
    },
    {
     "name": "stdout",
     "output_type": "stream",
     "text": [
      "ssp126,rsut\n",
      "ssp126,rlut\n",
      "ssp126,rsdt\n",
      "ssp585,tas\n"
     ]
    },
    {
     "name": "stderr",
     "output_type": "stream",
     "text": [
      "/usr/local/lib/python3.7/dist-packages/dask/array/core.py:3908: PerformanceWarning: Increasing number of chunks by factor of 11\n",
      "  **blockwise_kwargs,\n",
      "/usr/local/lib/python3.7/dist-packages/dask/array/core.py:3908: PerformanceWarning: Increasing number of chunks by factor of 17\n",
      "  **blockwise_kwargs,\n"
     ]
    },
    {
     "name": "stdout",
     "output_type": "stream",
     "text": [
      "ssp585,rsut\n",
      "ssp585,rlut\n"
     ]
    },
    {
     "name": "stderr",
     "output_type": "stream",
     "text": [
      "/usr/local/lib/python3.7/dist-packages/dask/array/core.py:3908: PerformanceWarning: Increasing number of chunks by factor of 29\n",
      "  **blockwise_kwargs,\n"
     ]
    },
    {
     "name": "stdout",
     "output_type": "stream",
     "text": [
      "ssp585,rsdt\n"
     ]
    }
   ],
   "source": [
    " \n",
    "if readdata:\n",
    "  dall=[]\n",
    "  out = display(progress(0, 1), display_id=True)\n",
    "  for i,ds in enumerate(dsall,start=0):\n",
    "    dexp=[]\n",
    "    for j,dm in enumerate(ds):\n",
    "      print(expts[i]+','+flds[j])\n",
    "      for index, dd in enumerate(dm, start=0):\n",
    "          if 'longitude' in dd.keys():\n",
    "            dd=dd.rename({'longitude': 'lon','latitude': 'lat'})\n",
    "          if 'latitude' in dd.coords:\n",
    "            dd=dd.drop('latitude')  \n",
    "            dd=dd.drop_dims('latitude')\n",
    "       \n",
    "          tmp=dd[flds[j]][:4800,:,:].interp(lon=lon_out,lat=lat_out, kwargs={\"fill_value\": \"extrapolate\"})\n",
    "          if calstrt[i]:\n",
    "            tmp.coords['time']=pd.date_range('1850-01-01', periods=tmp['time'].values.shape[0],freq='M')\n",
    "          if tmp['time'].dtype=='float64' or  tmp['time'].dtype=='int64':\n",
    "            tmp.coords['time']=num2date(tmp['time'].values,tmp['time'].units)     \n",
    "          srm=tmp.groupby('time.year').mean('time')\n",
    "          if index==0:\n",
    "            dac=srm\n",
    "          else:\n",
    "            dac=xr.concat([dac,srm],'ens',coords='minimal',compat='override')\n",
    "          out.update(progress(index+j*nm+i*nm*nf, ne*nm*nf))\n",
    "      dexp.append(dac)\n",
    "    dall.append(dexp)"
   ]
  },
  {
   "cell_type": "markdown",
   "metadata": {
    "id": "QdGXa2hCp6tD"
   },
   "source": [
    "Find complete runs\n",
    "\n",
    "\n"
   ]
  },
  {
   "cell_type": "code",
   "execution_count": null,
   "metadata": {
    "colab": {
     "background_save": true,
     "base_uri": "https://localhost:8080/",
     "height": 278
    },
    "id": "Q2AYLtYelCCY",
    "outputId": "04da2d9a-f14b-44aa-d693-a9f331a85861"
   },
   "outputs": [
    {
     "data": {
      "text/html": [
       "\n",
       "        <progress\n",
       "            value='5'\n",
       "            max='6',\n",
       "            style='width: 100%'\n",
       "        >\n",
       "            5\n",
       "        </progress>\n",
       "    "
      ],
      "text/plain": [
       "<IPython.core.display.HTML object>"
      ]
     },
     "metadata": {},
     "output_type": "display_data"
    },
    {
     "name": "stderr",
     "output_type": "stream",
     "text": [
      "/usr/local/lib/python3.7/dist-packages/dask/array/core.py:3908: PerformanceWarning: Increasing number of chunks by factor of 34\n",
      "  **blockwise_kwargs,\n",
      "/usr/local/lib/python3.7/dist-packages/dask/array/core.py:3908: PerformanceWarning: Increasing number of chunks by factor of 34\n",
      "  **blockwise_kwargs,\n",
      "/usr/local/lib/python3.7/dist-packages/dask/array/core.py:3908: PerformanceWarning: Increasing number of chunks by factor of 34\n",
      "  **blockwise_kwargs,\n",
      "/usr/local/lib/python3.7/dist-packages/dask/array/core.py:3908: PerformanceWarning: Increasing number of chunks by factor of 34\n",
      "  **blockwise_kwargs,\n",
      "/usr/local/lib/python3.7/dist-packages/dask/array/core.py:3908: PerformanceWarning: Increasing number of chunks by factor of 34\n",
      "  **blockwise_kwargs,\n",
      "/usr/local/lib/python3.7/dist-packages/dask/array/core.py:3908: PerformanceWarning: Increasing number of chunks by factor of 34\n",
      "  **blockwise_kwargs,\n",
      "/usr/local/lib/python3.7/dist-packages/dask/array/core.py:3908: PerformanceWarning: Increasing number of chunks by factor of 34\n",
      "  **blockwise_kwargs,\n"
     ]
    }
   ],
   "source": [
    "\n",
    "if readdata:\n",
    "  out = display(progress(0, 1), display_id=True)\n",
    "  for i,d in enumerate(dall,start=0):\n",
    "    tmp=xr.merge(d[:])\n",
    "    tmp.to_netcdf(datadir+'/colab_4xco2/'+expts[i]+'.nc')\n",
    "    #lat=tmp.tas.lat\n",
    "    #weights = np.cos(np.deg2rad(lat))\n",
    "    #weights.name = \"weights\"\n",
    "    #tmp_gm=tmp.weighted(weights).mean(dim='lat').mean(dim='lon')\n",
    "    #tmp_gm.to_netcdf('/content/drive/MyDrive/colab_4xco2/'+expts[i]+'_gm.nc')\n",
    "    out.update(progress(i,ne))\n",
    "\n"
   ]
  },
  {
   "cell_type": "code",
   "execution_count": null,
   "metadata": {
    "id": "HUN2orjBqEe5"
   },
   "outputs": [],
   "source": [
    "\n",
    "  \n",
    "if readdata:\n",
    "  out = display(progress(0, 1), display_id=True)\n",
    "  for i,d in enumerate(dall,start=0):\n",
    "    tmp=xr.open_dataset(datadir+'/'+expts[i]+'.nc')\n",
    "    lat=tmp.tas.lat\n",
    "    weights = np.cos(np.deg2rad(lat))\n",
    "    weights.name = \"weights\"\n",
    "    tmp_gm=tmp.weighted(weights).mean(dim='lat').mean(dim='lon')\n",
    "    tmp_gm.to_netcdf(datadir+'/'+expts[i]+'_gm.nc')\n",
    "    out.update(progress(i,ne))\n"
   ]
  }
 ],
 "metadata": {
  "colab": {
   "collapsed_sections": [],
   "include_colab_link": true,
   "machine_shape": "hm",
   "name": "CMIP6 get data.ipynb",
   "provenance": []
  },
  "kernelspec": {
   "display_name": "Python 3 (ipykernel)",
   "language": "python",
   "name": "python3"
  },
  "language_info": {
   "codemirror_mode": {
    "name": "ipython",
    "version": 3
   },
   "file_extension": ".py",
   "mimetype": "text/x-python",
   "name": "python",
   "nbconvert_exporter": "python",
   "pygments_lexer": "ipython3",
   "version": "3.8.10"
  }
 },
 "nbformat": 4,
 "nbformat_minor": 1
}
