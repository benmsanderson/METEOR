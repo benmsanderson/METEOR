{
 "cells": [
  {
   "cell_type": "markdown",
   "metadata": {
    "colab_type": "text",
    "id": "view-in-github"
   },
   "source": [
    "<a href=\"https://colab.research.google.com/github/benmsanderson/prpattern/blob/main/CMIP6_spatial_emulator.ipynb\" target=\"_parent\"><img src=\"https://colab.research.google.com/assets/colab-badge.svg\" alt=\"Open In Colab\"/></a>"
   ]
  },
  {
   "cell_type": "code",
   "execution_count": 1,
   "metadata": {},
   "outputs": [],
   "source": [
    "datadir='/content/drive/MyDrive/colab_4xco2'"
   ]
  },
  {
   "cell_type": "code",
   "execution_count": 2,
   "metadata": {
    "id": "i4_7gVHY61qO"
   },
   "outputs": [
    {
     "name": "stdout",
     "output_type": "stream",
     "text": [
      "Requirement already satisfied: eofs in /home/sanderson/.local/lib/python3.8/site-packages (1.4.0)\n",
      "Requirement already satisfied: numpy in /usr/local/lib/python3.8/dist-packages/numpy-1.22.1-py3.8-linux-x86_64.egg (from eofs) (1.22.1)\n",
      "Requirement already satisfied: lmfit in /home/sanderson/.local/lib/python3.8/site-packages (1.0.3)\n",
      "Requirement already satisfied: corner in /home/sanderson/.local/lib/python3.8/site-packages (2.2.1)\n",
      "Requirement already satisfied: emcee in /home/sanderson/.local/lib/python3.8/site-packages (3.1.2)\n",
      "Requirement already satisfied: netcdf4 in /home/sanderson/.local/lib/python3.8/site-packages (1.5.8)\n",
      "Requirement already satisfied: h5netcdf in /home/sanderson/.local/lib/python3.8/site-packages (1.0.0)\n",
      "Requirement already satisfied: uncertainties>=3.0.1 in /home/sanderson/.local/lib/python3.8/site-packages (from lmfit) (3.1.6)\n",
      "Requirement already satisfied: asteval>=0.9.22 in /home/sanderson/.local/lib/python3.8/site-packages (from lmfit) (0.9.26)\n",
      "Requirement already satisfied: numpy>=1.18 in /usr/local/lib/python3.8/dist-packages/numpy-1.22.1-py3.8-linux-x86_64.egg (from lmfit) (1.22.1)\n",
      "Requirement already satisfied: scipy>=1.4 in /home/sanderson/.local/lib/python3.8/site-packages (from lmfit) (1.8.0)\n",
      "Requirement already satisfied: matplotlib>=2.1 in /home/sanderson/.local/lib/python3.8/site-packages (from corner) (3.5.1)\n",
      "Requirement already satisfied: cftime in /home/sanderson/.local/lib/python3.8/site-packages (from netcdf4) (1.6.0)\n",
      "Requirement already satisfied: packaging in /home/sanderson/.local/lib/python3.8/site-packages (from h5netcdf) (21.2)\n",
      "Requirement already satisfied: h5py in /home/sanderson/.local/lib/python3.8/site-packages (from h5netcdf) (3.6.0)\n",
      "Requirement already satisfied: future in /home/sanderson/.local/lib/python3.8/site-packages (from uncertainties>=3.0.1->lmfit) (0.18.2)\n",
      "Requirement already satisfied: kiwisolver>=1.0.1 in /home/sanderson/.local/lib/python3.8/site-packages (from matplotlib>=2.1->corner) (1.3.2)\n",
      "Requirement already satisfied: pillow>=6.2.0 in /home/sanderson/.local/lib/python3.8/site-packages (from matplotlib>=2.1->corner) (9.0.1)\n",
      "Requirement already satisfied: pyparsing>=2.2.1 in /home/sanderson/.local/lib/python3.8/site-packages (from matplotlib>=2.1->corner) (2.4.7)\n",
      "Requirement already satisfied: cycler>=0.10 in /home/sanderson/.local/lib/python3.8/site-packages (from matplotlib>=2.1->corner) (0.11.0)\n",
      "Requirement already satisfied: fonttools>=4.22.0 in /home/sanderson/.local/lib/python3.8/site-packages (from matplotlib>=2.1->corner) (4.29.1)\n",
      "Requirement already satisfied: python-dateutil>=2.7 in /home/sanderson/.local/lib/python3.8/site-packages (from matplotlib>=2.1->corner) (2.8.2)\n",
      "Requirement already satisfied: six>=1.5 in /usr/lib/python3/dist-packages (from python-dateutil>=2.7->matplotlib>=2.1->corner) (1.14.0)\n"
     ]
    }
   ],
   "source": [
    "!pip install eofs\n",
    "!pip install lmfit corner emcee netcdf4 h5netcdf\n"
   ]
  },
  {
   "cell_type": "code",
   "execution_count": 3,
   "metadata": {
    "id": "aH3VEYX-Ozht"
   },
   "outputs": [],
   "source": [
    "#from matplotlib import pyplot as plt\n",
    "import pickle\n",
    "import os\n",
    "import scipy\n",
    "#import importlib\n",
    "\n",
    "from scipy import signal\n",
    "import numpy as np\n",
    "import emcee\n",
    "import lmfit\n",
    "import pandas as pd\n",
    "import xarray as xr\n",
    "import sys\n",
    "from eofs.xarray import Eof\n",
    "\n"
   ]
  },
  {
   "cell_type": "code",
   "execution_count": 4,
   "metadata": {},
   "outputs": [],
   "source": [
    "sys.path.append(os.path.join(os.getcwd(), \"../\", \"src\"))"
   ]
  },
  {
   "cell_type": "code",
   "execution_count": 5,
   "metadata": {},
   "outputs": [],
   "source": [
    "from meteor.utils import make_anom"
   ]
  },
  {
   "cell_type": "markdown",
   "metadata": {
    "id": "XK5kY6EH_EbP"
   },
   "source": [
    "Open xarray datasets"
   ]
  },
  {
   "cell_type": "code",
   "execution_count": 6,
   "metadata": {
    "id": "0iYKPg2QVvOx"
   },
   "outputs": [],
   "source": [
    "mdlslr=pickle.load( open( datadir+\"/mdls.pkl\", \"rb\" ))\n",
    "nmlr=len(mdlslr)"
   ]
  },
  {
   "cell_type": "code",
   "execution_count": 7,
   "metadata": {},
   "outputs": [
    {
     "data": {
      "text/plain": [
       "'/content/drive/MyDrive/colab_4xco2/abrupt-4xCO2.nc'"
      ]
     },
     "execution_count": 7,
     "metadata": {},
     "output_type": "execute_result"
    }
   ],
   "source": [
    "datadir+\"/abrupt-4xCO2.nc\""
   ]
  },
  {
   "cell_type": "code",
   "execution_count": 8,
   "metadata": {
    "id": "Iis29vj44dzq"
   },
   "outputs": [],
   "source": [
    "#CMIP6\n",
    "ds_4x = xr.open_dataset(datadir+\"/abrupt-4xCO2.nc\")\n",
    "ds_1pc = xr.open_dataset(datadir+\"/1pctCO2.nc\")\n",
    "ds_hist = xr.open_dataset(datadir+\"/historical.nc\")\n",
    "\n",
    "ds_cnt = xr.open_dataset(datadir+\"/piControl.nc\")\n",
    "ds_r85 = xr.open_dataset(datadir+\"/ssp585.nc\")\n",
    "ds_r26 = xr.open_dataset(datadir+\"/ssp126.nc\")"
   ]
  },
  {
   "cell_type": "code",
   "execution_count": null,
   "metadata": {
    "id": "zqnIieZMHgd4"
   },
   "outputs": [],
   "source": [
    "if 1:\n",
    "  ds_4x_anom=make_anom(ds_4x,ds_cnt)\n",
    "  ds_4x_anom.to_netcdf(datadir+'/a4xanom.nc')\n",
    "  ds_1pc_anom=make_anom(ds_1pc,ds_cnt)\n",
    "  ds_1pc_anom.to_netcdf(datadir+'/1pcanom.nc')\n",
    "\n",
    "else:\n",
    "  ds_4x_anom=xr.open_dataset('/content/drive/MyDrive/colab_4xco2/a4xanom.nc')\n",
    "  ds_1pc_anom=xr.open_dataset('/content/drive/MyDrive/colab_4xco2/1pcanom.nc')"
   ]
  },
  {
   "cell_type": "code",
   "execution_count": null,
   "metadata": {
    "id": "dFEd8XjOFHlU"
   },
   "outputs": [],
   "source": [
    "X=ds_4x_anom.tas[0,:150,:,:]\n"
   ]
  },
  {
   "cell_type": "code",
   "execution_count": null,
   "metadata": {
    "colab": {
     "base_uri": "https://localhost:8080/"
    },
    "id": "pNJa_04zcTox",
    "outputId": "1f5bd7bb-20c7-4a0c-95bb-b1119f6e2455"
   },
   "outputs": [],
   "source": [
    "(ts,out,us,orgeof)=prpatt.get_timescales(X,[5,40,10000])\n",
    "ts"
   ]
  },
  {
   "cell_type": "code",
   "execution_count": null,
   "metadata": {
    "colab": {
     "base_uri": "https://localhost:8080/"
    },
    "id": "5zRjq1Fcp338",
    "outputId": "f948482b-b347-4bb8-c7e1-1017d89fa8bb"
   },
   "outputs": [],
   "source": [
    "np.tile(orgeof['s'].T,(150,1)).shape\n",
    "orgeof['u'].shape"
   ]
  },
  {
   "cell_type": "code",
   "execution_count": null,
   "metadata": {
    "colab": {
     "base_uri": "https://localhost:8080/",
     "height": 640
    },
    "id": "DyOBwvxwyY1_",
    "outputId": "99df0da3-70b4-4da2-ca80-7819044b586b"
   },
   "outputs": [],
   "source": [
    "p,ax=plt.subplots(3,1)\n",
    "p.set_size_inches(4,10)\n",
    "\n",
    "orgeof['v'][0,:,:].plot(ax=ax[0])\n",
    "orgeof['v'][1,:,:].plot(ax=ax[1])\n",
    "orgeof['v'][2,:,:].plot(ax=ax[2])\n"
   ]
  },
  {
   "cell_type": "code",
   "execution_count": null,
   "metadata": {
    "colab": {
     "base_uri": "https://localhost:8080/",
     "height": 283
    },
    "id": "OIN4a9COLj3o",
    "outputId": "1dbbd585-9ac2-4cef-fcb6-a4dded661512"
   },
   "outputs": [],
   "source": [
    "plt.plot(us)\n",
    "plt.plot(orgeof['u'])\n",
    "orgeof['u'].shape[0]"
   ]
  },
  {
   "cell_type": "code",
   "execution_count": null,
   "metadata": {
    "id": "GZ70kmrtbKra"
   },
   "outputs": [],
   "source": [
    "Xrp=prpatt.recon(orgeof)\n",
    "Xrs=prpatt.rmodel(orgeof,us)\n",
    "\n"
   ]
  },
  {
   "cell_type": "code",
   "execution_count": null,
   "metadata": {
    "colab": {
     "base_uri": "https://localhost:8080/",
     "height": 313
    },
    "id": "p9JVBfISeSMn",
    "outputId": "ac4dd431-c59a-47bf-fd16-3f7bdd902a8b"
   },
   "outputs": [],
   "source": [
    "X.weighted(prpatt.wgt(X)).mean(('lat','lon')).plot()\n",
    "Xrp.weighted(prpatt.wgt(X)).mean(('lat','lon')).plot()\n",
    "Xrs.weighted(prpatt.wgt(X)).mean(('lat','lon')).plot()\n",
    "\n"
   ]
  },
  {
   "cell_type": "code",
   "execution_count": null,
   "metadata": {
    "colab": {
     "base_uri": "https://localhost:8080/",
     "height": 532
    },
    "id": "BHcXJvY_zt3Q",
    "outputId": "ffc9f20d-9f26-4cd5-eefb-84aa50c2044d"
   },
   "outputs": [],
   "source": [
    "p,ax=plt.subplots(2,1)\n",
    "p.set_size_inches(4,8)\n",
    "Xrs[-1,:,:].plot(ax=ax[0])\n",
    "ax[0].set_title('emulated year 150 abrupt4x')\n",
    "X[-1,:,:].plot(ax=ax[1])\n",
    "ax[1].set_title('actual year 150 abrupt4x')\n"
   ]
  },
  {
   "cell_type": "code",
   "execution_count": null,
   "metadata": {
    "id": "mz4vNgwPQYnF"
   },
   "outputs": [],
   "source": [
    "f=np.arange(0,150)*5.35*np.log(1.01)\n",
    "Xu=prpatt.imodel_eof(out.params, f)\n",
    "Xf=prpatt.imodel_filter(out.params,f)\n",
    "Xsim=prpatt.rmodel(orgeof,Xf)"
   ]
  },
  {
   "cell_type": "code",
   "execution_count": null,
   "metadata": {
    "colab": {
     "base_uri": "https://localhost:8080/",
     "height": 313
    },
    "id": "v2oaw2D42UYZ",
    "outputId": "7b694040-2496-42f6-ca49-8f939294b1c5"
   },
   "outputs": [],
   "source": [
    "plt.plot(f)\n",
    "plt.ylabel(r'Wm$^{-2}$')\n",
    "plt.xlabel('year')\n",
    "plt.title('1pctCO2 forcing timeseries')"
   ]
  },
  {
   "cell_type": "code",
   "execution_count": null,
   "metadata": {
    "colab": {
     "base_uri": "https://localhost:8080/",
     "height": 320
    },
    "id": "PidI09UIBfro",
    "outputId": "3e0f5580-b179-40f6-b92e-80cadbb85532"
   },
   "outputs": [],
   "source": [
    "plt.plot(Xf[:])\n",
    "#plt.plot(Xu[:],'--')"
   ]
  },
  {
   "cell_type": "code",
   "execution_count": null,
   "metadata": {
    "id": "9wtjtqiQpe7w"
   },
   "outputs": [],
   "source": []
  },
  {
   "cell_type": "code",
   "execution_count": null,
   "metadata": {
    "colab": {
     "base_uri": "https://localhost:8080/",
     "height": 313
    },
    "id": "MjteO_DSjhHp",
    "outputId": "22190ab7-4472-400c-c9a0-c856e909aa0f"
   },
   "outputs": [],
   "source": [
    "p1=Xsim.weighted(prpatt.wgt(X)).mean(('lat','lon')).plot()\n",
    "Xact=ds_1pc_anom.tas[0,:150,:,:]\n",
    "\n",
    "p2=Xact.weighted(prpatt.wgt(X)).mean(('lat','lon')).plot()\n",
    "plt.ylabel(r'Wm$^{-2}$')\n",
    "plt.xlabel('year')\n",
    "plt.title('1pctCO2 global mean temperature response')\n",
    "plt.legend((p1[0],p2[0]),['Emulated','truth'])"
   ]
  },
  {
   "cell_type": "code",
   "execution_count": null,
   "metadata": {
    "colab": {
     "base_uri": "https://localhost:8080/",
     "height": 532
    },
    "id": "Sp8eDXza8aly",
    "outputId": "a17be18f-abdb-48f2-d492-1a2316ca284a"
   },
   "outputs": [],
   "source": [
    "p,ax=plt.subplots(2,1)\n",
    "p.set_size_inches(8,8)\n",
    "Xsim[-1,:,:].plot(ax=ax[0])\n",
    "ax[0].set_title('emulated year 150 1pctCO2')\n",
    "Xact[-1,:,:].plot(ax=ax[1])\n",
    "ax[1].set_title('actual year 150 1pctCO2')\n"
   ]
  },
  {
   "cell_type": "code",
   "execution_count": null,
   "metadata": {
    "colab": {
     "base_uri": "https://localhost:8080/",
     "height": 356
    },
    "id": "BEX8dDnhzRSy",
    "outputId": "4245ef0f-10cf-4892-fe3e-a14b69f46b32"
   },
   "outputs": [],
   "source": [
    "solver = Eof(X,center=False,weights=prpatt.wgt2(X))\n",
    "\n",
    "Xu.plot.line(x='time')\n",
    "ua=solver.projectField(Xact,neofs=4,eofscaling=1)\n",
    "ua.plot.line(x='time')\n"
   ]
  },
  {
   "cell_type": "code",
   "execution_count": null,
   "metadata": {
    "colab": {
     "base_uri": "https://localhost:8080/",
     "height": 416
    },
    "id": "rblj-nTHw-G6",
    "outputId": "72c48c88-f5f4-490e-e5fe-8f02d1215b20"
   },
   "outputs": [],
   "source": [
    "\n",
    "outscl=prpatt.adjust_timescales(X,Xact,out.params,ts,f)\n",
    "outscl"
   ]
  },
  {
   "cell_type": "code",
   "execution_count": null,
   "metadata": {
    "id": "2V-afJrhGYBk"
   },
   "outputs": [],
   "source": [
    "Xscl=prpatt.imodel_filter_scl(outscl.params,out.params,f)\n",
    "Xsimscl=prpatt.rmodel(orgeof,Xscl)"
   ]
  },
  {
   "cell_type": "code",
   "execution_count": null,
   "metadata": {
    "colab": {
     "base_uri": "https://localhost:8080/",
     "height": 313
    },
    "id": "sd5i7hHxGzTd",
    "outputId": "cf9a44c8-0547-478d-b0dd-893b1179484f"
   },
   "outputs": [],
   "source": [
    "p1=Xsim.weighted(prpatt.wgt(X)).mean(('lat','lon')).plot()\n",
    "Xact=ds_1pc_anom.tas[0,:150,:,:]\n",
    "\n",
    "p2=Xact.weighted(prpatt.wgt(X)).mean(('lat','lon')).plot()\n",
    "p3=Xsimscl.weighted(prpatt.wgt(X)).mean(('lat','lon')).plot()\n",
    "\n",
    "plt.ylabel(r'(K)')\n",
    "plt.xlabel('year')\n",
    "plt.title('1pctCO2 global mean temperature response')\n",
    "plt.legend((p1[0],p2[0],p3[0]),['Emulated (IR only)','truth','Emulated (IR + quadratic transform)'])"
   ]
  },
  {
   "cell_type": "code",
   "execution_count": null,
   "metadata": {
    "colab": {
     "base_uri": "https://localhost:8080/",
     "height": 190
    },
    "id": "E0ALFZPCduv7",
    "outputId": "75140a11-d4c2-467b-d411-2be428c6bad8"
   },
   "outputs": [],
   "source": [
    "Xu1=prpatt.imodel_eof(out1.params, f)\n",
    "Xsim1=prpatt.rmodel(orgeof1,Xu)"
   ]
  },
  {
   "cell_type": "code",
   "execution_count": null,
   "metadata": {
    "id": "1aivdKYvGy7Z"
   },
   "outputs": [],
   "source": []
  },
  {
   "cell_type": "code",
   "execution_count": null,
   "metadata": {
    "id": "9xZLLJakd9eS"
   },
   "outputs": [],
   "source": [
    "Xsim.weighted(prpatt.wgt(X)).mean(('lat','lon')).plot()\n",
    "Xact.weighted(prpatt.wgt(X)).mean(('lat','lon')).plot()\n",
    "Xsim1.weighted(prpatt.wgt(X)).mean(('lat','lon')).plot()\n"
   ]
  },
  {
   "cell_type": "code",
   "execution_count": null,
   "metadata": {
    "id": "2XFLes1o3Rn1"
   },
   "outputs": [],
   "source": [
    "inma=prpatt.imodel_filter(out.params, f, F0=7.41, y0=1850)"
   ]
  },
  {
   "cell_type": "code",
   "execution_count": null,
   "metadata": {
    "id": "nkpKXjipA4sN"
   },
   "outputs": [],
   "source": [
    "plt.plot(f+np.square(f)/10)"
   ]
  },
  {
   "cell_type": "code",
   "execution_count": null,
   "metadata": {
    "id": "ZoNWAyb8-Gk5"
   },
   "outputs": [],
   "source": [
    "inma.plot.line(x='time')"
   ]
  },
  {
   "cell_type": "code",
   "execution_count": null,
   "metadata": {
    "id": "pW2tQ7ZrSQIE"
   },
   "outputs": [],
   "source": [
    "!git add prpatt.py\n",
    "!git commit -m 'colab'\n",
    "!git push origin main"
   ]
  }
 ],
 "metadata": {
  "colab": {
   "collapsed_sections": [],
   "include_colab_link": true,
   "machine_shape": "hm",
   "name": "CMIP6_spatial_emulator.ipynb",
   "provenance": []
  },
  "kernelspec": {
   "display_name": "Python 3 (ipykernel)",
   "language": "python",
   "name": "python3"
  },
  "language_info": {
   "codemirror_mode": {
    "name": "ipython",
    "version": 3
   },
   "file_extension": ".py",
   "mimetype": "text/x-python",
   "name": "python",
   "nbconvert_exporter": "python",
   "pygments_lexer": "ipython3",
   "version": "3.8.10"
  }
 },
 "nbformat": 4,
 "nbformat_minor": 1
}
