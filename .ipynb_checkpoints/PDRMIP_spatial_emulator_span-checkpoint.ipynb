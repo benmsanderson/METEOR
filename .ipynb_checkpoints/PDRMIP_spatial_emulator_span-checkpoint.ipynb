{
 "cells": [
  {
   "cell_type": "code",
   "execution_count": null,
   "metadata": {},
   "outputs": [],
   "source": [
    "import cartopy.crs as ccrs\n",
    "from cartopy.util import add_cyclic_point\n"
   ]
  },
  {
   "cell_type": "code",
   "execution_count": null,
   "metadata": {
    "id": "aH3VEYX-Ozht"
   },
   "outputs": [],
   "source": [
    "from matplotlib import pyplot as plt\n",
    "import pickle\n",
    "import os\n",
    "import scipy\n",
    "import importlib\n",
    "\n",
    "from scipy import signal\n",
    "import numpy as np\n",
    "\n",
    "import emcee\n",
    "import lmfit\n",
    "import pandas as pd\n",
    "import xarray as xr\n",
    "from eofs.xarray import Eof\n",
    "import re"
   ]
  },
  {
   "cell_type": "code",
   "execution_count": null,
   "metadata": {
    "id": "qQfkzxzLSnUZ"
   },
   "outputs": [],
   "source": [
    "import prpatt"
   ]
  },
  {
   "cell_type": "markdown",
   "metadata": {
    "id": "XK5kY6EH_EbP"
   },
   "source": [
    "Find available experiments"
   ]
  },
  {
   "cell_type": "code",
   "execution_count": null,
   "metadata": {},
   "outputs": [],
   "source": [
    "a=os.listdir('training')\n",
    "start='mip-'\n",
    "end='_T42'\n",
    "expts=[s[s.find(start)+len(start):s.rfind(end)] for s in a]\n",
    "expts"
   ]
  },
  {
   "cell_type": "markdown",
   "metadata": {},
   "source": [
    "Open and concatenate xarray datasets"
   ]
  },
  {
   "cell_type": "code",
   "execution_count": null,
   "metadata": {},
   "outputs": [],
   "source": [
    "for i,expt in enumerate(expts):\n",
    "    tmp=xr.open_dataset(\"training/pdrmip-\"+expt+\"_T42_ANN.nc\")\n",
    "    if i==0:\n",
    "        dac=tmp\n",
    "    else:\n",
    "        dac=xr.concat([dac,tmp],'expt')"
   ]
  },
  {
   "cell_type": "code",
   "execution_count": null,
   "metadata": {},
   "outputs": [],
   "source": [
    "dac=dac.assign_coords({\"expt\": expts})\n",
    "dac"
   ]
  },
  {
   "cell_type": "markdown",
   "metadata": {},
   "source": [
    "Create anomaly matrix from base experiment"
   ]
  },
  {
   "cell_type": "code",
   "execution_count": null,
   "metadata": {},
   "outputs": [],
   "source": [
    "ctrl=expts.index(\"base\")"
   ]
  },
  {
   "cell_type": "code",
   "execution_count": null,
   "metadata": {},
   "outputs": [],
   "source": [
    "vars=dac.data_vars\n",
    "dacanom=dac\n",
    "for var in vars:\n",
    "    dacanom[var]=dac[var]-dac[var][ctrl,:,:,:,:].mean(dim='year',skipna=True)\n",
    "dacanom=dacanom.rename({'year': 'time'})"
   ]
  },
  {
   "cell_type": "code",
   "execution_count": null,
   "metadata": {},
   "outputs": [],
   "source": [
    "flds = [i for i in dacanom.data_vars] \n",
    "flds"
   ]
  },
  {
   "cell_type": "code",
   "execution_count": null,
   "metadata": {},
   "outputs": [],
   "source": [
    "mdls=list(dacanom.ens.values)"
   ]
  },
  {
   "cell_type": "code",
   "execution_count": null,
   "metadata": {},
   "outputs": [],
   "source": [
    "fldtrnc=[2,80]\n",
    "tmscl=[2,50]"
   ]
  },
  {
   "cell_type": "code",
   "execution_count": null,
   "metadata": {},
   "outputs": [],
   "source": [
    "od=dict()\n",
    "mav=np.zeros([len(mdls),len(expts),len(flds)])\n",
    "for i,mdl in enumerate(mdls):\n",
    "    od[mdl]=dict()\n",
    "    for j,expt in enumerate(expts):\n",
    "        od[mdl][expt]=dict()\n",
    "        for k,fld in enumerate(flds):\n",
    "            od[mdl][expt][fld]=dict()\n",
    "            \n",
    "            X=dacanom[fld][j,:100,:,:,i]\n",
    "            if ~np.isnan(np.mean(X)):\n",
    "                print(mdl+' '+expt+' '+fld)\n",
    "                mav[i,j,k]=1\n",
    "                (ts,out,us,orgeof,neweof)=prpatt.get_timescales(X,tmscl,fldtrnc[k])\n",
    "                od[mdl][expt][fld]['neweof']=neweof\n",
    "                od[mdl][expt][fld]['orgeof']=orgeof\n",
    "            else:\n",
    "                od[mdl][expt][fld]['neweof']=np.nan\n",
    "                od[mdl][expt][fld]['orgeof']=np.nan"
   ]
  },
  {
   "cell_type": "code",
   "execution_count": null,
   "metadata": {},
   "outputs": [],
   "source": [
    "len(mdls)"
   ]
  },
  {
   "cell_type": "code",
   "execution_count": null,
   "metadata": {},
   "outputs": [],
   "source": [
    "mdl='CanESM2'\n",
    "expt='co2x2'\n",
    "fld='tas'\n",
    "\n",
    "p,ax=plt.subplots(2,5)\n",
    "ax=ax.flatten()\n",
    "p.set_size_inches(15,8)\n",
    "for i,mdl in enumerate(mdls):\n",
    "    X=dacanom[fld][expts.index(expt),:100,:,:,mdls.index(mdl)]\n",
    "    ax[i].plot(prpatt.global_mean(X),label='Original Data')\n",
    "    if mav[mdls.index(mdl),expts.index(expt),flds.index(fld)]==1:\n",
    "        ax[i].plot(prpatt.global_mean(prpatt.recon(od[mdl][expt][fld]['orgeof'])),label='EOF reconstruction (t=2)')\n",
    "        ax[i].plot(prpatt.global_mean(prpatt.recon(od[mdl][expt][fld]['neweof'])),label='P-R fit to PCs (t=2)')\n",
    "    ax[i].set_xlabel('time (years)')\n",
    "    #ax[i].legend()\n",
    "    ax[i].set_title(mdl)\n",
    "plt.t\n"
   ]
  },
  {
   "cell_type": "code",
   "execution_count": null,
   "metadata": {
    "colab": {
     "base_uri": "https://localhost:8080/",
     "height": 640
    },
    "id": "DyOBwvxwyY1_",
    "outputId": "99df0da3-70b4-4da2-ca80-7819044b586b"
   },
   "outputs": [],
   "source": [
    "p,ax=plt.subplots(2,1)\n",
    "p.set_size_inches(8,10)\n",
    "plt.set_cmap('bwr')\n",
    "orgeof['v'][0,:,:].plot(ax=ax[0],cmap='bwr',vmin=-0.0001,vmax=0.0001)\n",
    "orgeof['v'][1,:,:].plot(ax=ax[1])\n",
    "\n"
   ]
  },
  {
   "cell_type": "code",
   "execution_count": null,
   "metadata": {
    "id": "GZ70kmrtbKra"
   },
   "outputs": [],
   "source": [
    "Xrp=prpatt.recon(orgeofp)\n",
    "Xrs=prpatt.recon(neweofp)\n",
    "\n"
   ]
  },
  {
   "cell_type": "code",
   "execution_count": null,
   "metadata": {
    "colab": {
     "base_uri": "https://localhost:8080/",
     "height": 313
    },
    "id": "p9JVBfISeSMn",
    "outputId": "ac4dd431-c59a-47bf-fd16-3f7bdd902a8b"
   },
   "outputs": [],
   "source": [
    "Xp.weighted(prpatt.wgt(Xp)).mean(('lat','lon')).plot(color='cyan')\n",
    "Xrp.weighted(prpatt.wgt(Xp)).mean(('lat','lon')).plot(color='k')\n",
    "Xrs.weighted(prpatt.wgt(Xp)).mean(('lat','lon')).plot(color='red')\n",
    "\n"
   ]
  },
  {
   "cell_type": "code",
   "execution_count": null,
   "metadata": {
    "colab": {
     "base_uri": "https://localhost:8080/",
     "height": 532
    },
    "id": "BHcXJvY_zt3Q",
    "outputId": "ffc9f20d-9f26-4cd5-eefb-84aa50c2044d"
   },
   "outputs": [],
   "source": [
    "p,ax=plt.subplots(3,2)\n",
    "p.set_size_inches(8,8)\n",
    "Xrs[0,:,:].plot(ax=ax[0,0],clim=[-5,5])\n",
    "Xrs[0,:,:].mean(dim='lon').plot(ax=ax[0,1])\n",
    "\n",
    "ax[0,0].set_title('emulated year 0 abrupt4x')\n",
    "X[0,:,:].plot(ax=ax[1,0])\n",
    "X[0,:,:].mean(dim='lon').plot(ax=ax[1,1],label='actual')\n",
    "Xrs[1,:,:].mean(dim='lon').plot(ax=ax[1,1],color='r',label='emulated')\n",
    "ax[1,1].legend()\n",
    "ax[1,0].set_title('actual year 0 abrupt4x')\n",
    "(X[1,:,:]-Xrs[0,:,:]).plot(ax=ax[2,0])\n",
    "(X[1,:,:]-Xrs[0,:,:]).mean(dim='lon').plot(ax=ax[2,1])\n",
    "ax[2,0].set_title('actual-emulated year 0 abrupt4x')\n",
    "\n"
   ]
  },
  {
   "cell_type": "code",
   "execution_count": null,
   "metadata": {
    "colab": {
     "base_uri": "https://localhost:8080/",
     "height": 532
    },
    "id": "BHcXJvY_zt3Q",
    "outputId": "ffc9f20d-9f26-4cd5-eefb-84aa50c2044d"
   },
   "outputs": [],
   "source": [
    "p,ax=plt.subplots(2,2)\n",
    "p.set_size_inches(8,8)\n",
    "Xrs[-1,:,:].plot(ax=ax[0,0])\n",
    "Xrs[-1,:,:].mean(dim='lon').plot(ax=ax[0,1])\n",
    "\n",
    "ax[0,0].set_title('emulated year 150 abrupt4x')\n",
    "Xp[-1,:,:].plot(ax=ax[1,0])\n",
    "Xp[-1,:,:].mean(dim='lon').plot(ax=ax[1,1])\n",
    "Xrs[-1,:,:].mean(dim='lon').plot(ax=ax[1,1],color='r',label='emulated')\n",
    "ax[1,1].legend()\n",
    "ax[1,0].set_title('actual year 150 abrupt4x')\n",
    "\n",
    "p.tight_layout()\n"
   ]
  },
  {
   "cell_type": "code",
   "execution_count": null,
   "metadata": {},
   "outputs": [],
   "source": [
    "importlib.reload(prpatt)"
   ]
  },
  {
   "cell_type": "code",
   "execution_count": null,
   "metadata": {
    "id": "mz4vNgwPQYnF"
   },
   "outputs": [],
   "source": [
    "#f=np.arange(0,150)*5.35*np.log(1.01)\n",
    "\n",
    "f=5*np.exp(-np.square(np.arange(0,300)-150)/5000)\n"
   ]
  },
  {
   "cell_type": "code",
   "execution_count": null,
   "metadata": {
    "colab": {
     "base_uri": "https://localhost:8080/",
     "height": 313
    },
    "id": "v2oaw2D42UYZ",
    "outputId": "7b694040-2496-42f6-ca49-8f939294b1c5"
   },
   "outputs": [],
   "source": [
    "plt.plot(f)\n",
    "plt.ylabel(r'Wm$^{-2}$')\n",
    "plt.xlabel('year')\n",
    "plt.title('Idealised overshoot forcing')"
   ]
  },
  {
   "cell_type": "code",
   "execution_count": null,
   "metadata": {},
   "outputs": [],
   "source": [
    "Xup=prpatt.imodel_eof(outp.params, f)\n",
    "Xfp=prpatt.imodel_filter(outp.params,f)\n",
    "Xsimp=prpatt.rmodel(orgeofp,Xfp)\n",
    "\n",
    "Xu=prpatt.imodel_eof(out.params, f)\n",
    "Xf=prpatt.imodel_filter(out.params,f)\n",
    "Xsim=prpatt.rmodel(orgeof,Xf)\n",
    "\n"
   ]
  },
  {
   "cell_type": "code",
   "execution_count": null,
   "metadata": {
    "colab": {
     "base_uri": "https://localhost:8080/",
     "height": 320
    },
    "id": "PidI09UIBfro",
    "outputId": "3e0f5580-b179-40f6-b92e-80cadbb85532"
   },
   "outputs": [],
   "source": [
    "#plt.plot(Xf[:])\n",
    "#plt.plot(Xu[:],'--')"
   ]
  },
  {
   "cell_type": "code",
   "execution_count": null,
   "metadata": {
    "id": "9wtjtqiQpe7w"
   },
   "outputs": [],
   "source": []
  },
  {
   "cell_type": "code",
   "execution_count": null,
   "metadata": {
    "colab": {
     "base_uri": "https://localhost:8080/",
     "height": 313
    },
    "id": "MjteO_DSjhHp",
    "outputId": "22190ab7-4472-400c-c9a0-c856e909aa0f"
   },
   "outputs": [],
   "source": [
    "ts_f=Xsim.weighted(prpatt.wgt(X)).mean(('lat','lon'))\n",
    "pr_f=Xsimp.weighted(prpatt.wgt(X)).mean(('lat','lon'))\n",
    "\n",
    "plt.plot(f/np.max(f),label='Forcing')\n",
    "plt.plot(ts_f/np.max(ts_f),label='GMTS response')\n",
    "plt.plot(pr_f/np.max(pr_f),label='GMPR response')\n",
    "#p1=Xsim.weighted(prpatt.wgt(X)).mean(('lat','lon')).plot()\n",
    "#Xact=ds_1pc_anom.tas[0,:150,:,:]\n",
    "\n",
    "#p2=Xact.weighted(prpatt.wgt(X)).mean(('lat','lon')).plot()\n",
    "plt.ylabel('normalised global mean response to forcing')\n",
    "plt.xlabel('year')\n",
    "plt.legend()\n",
    "\n",
    "plt.title('CanESM2 METEOR fit')\n",
    "#plt.legend((p1[0],p2[0]),['Emulated','truth'])"
   ]
  },
  {
   "cell_type": "code",
   "execution_count": null,
   "metadata": {
    "colab": {
     "base_uri": "https://localhost:8080/",
     "height": 313
    },
    "id": "sd5i7hHxGzTd",
    "outputId": "cf9a44c8-0547-478d-b0dd-893b1179484f",
    "tags": []
   },
   "outputs": [],
   "source": [
    "plt.plot(ts_f,pr_f)\n",
    "\n",
    "\n",
    "plt.ylabel(r'(Global mean precipitation (m)')\n",
    "plt.xlabel('Warming (K)')\n",
    "plt.title('CanESM2 METEOR emulation')\n"
   ]
  },
  {
   "cell_type": "code",
   "execution_count": null,
   "metadata": {},
   "outputs": [],
   "source": [
    "fil=(ts_f/np.max(ts_f)>0.95)\n",
    "tf=[i for i, x in enumerate(fil) if x][0]\n",
    "tl=[i for i, x in enumerate(fil) if x][-1]\n"
   ]
  },
  {
   "cell_type": "code",
   "execution_count": null,
   "metadata": {},
   "outputs": [],
   "source": [
    "da=3600*24*365*(Xsimp[tl,:,:]-Xsimp[tf,:,:])\n",
    "\n",
    "projection = ccrs.PlateCarree()\n",
    "crs = ccrs.PlateCarree()\n",
    "# Now we will create axes object having specific projection \n",
    "plt.figure(dpi=300,figsize=(8, 5))\n",
    "ax = plt.axes(projection=projection, frameon=True)\n",
    "\n",
    "# Draw gridlines in degrees over Mercator map\n",
    "gl = ax.gridlines(crs=crs, draw_labels=True,\n",
    "                  linewidth=.6, color='gray', alpha=0.5, linestyle='-.')\n",
    "gl.xlabel_style = {\"size\" : 5}\n",
    "gl.ylabel_style = {\"size\" : 5}\n",
    "\n",
    "# To plot borders and coastlines, we can use cartopy feature\n",
    "import cartopy.feature as cf\n",
    "\n",
    "# Now, we will specify extent of our map in minimum/maximum longitude/latitude\n",
    "# Note that these values are specified in degrees of longitude and degrees of latitude\n",
    "# However, we can specify them in any crs that we want, but we need to provide appropriate\n",
    "# crs argument in ax.set_extent\n",
    "lon_min = -180\n",
    "lon_max = 180\n",
    "lat_min = -80\n",
    "lat_max = 80\n",
    "\n",
    "# crs is PlateCarree -> we are explicitly telling axes, that we are creating bounds that are in degrees\n",
    "ax.set_extent([lon_min, lon_max, lat_min, lat_max], crs=crs)\n",
    "cbar_kwargs = {'orientation':'horizontal', 'shrink':0.6, \"pad\" : .05, 'aspect':40, 'label':'2 Metre Temperature Anomaly [K]'}\n",
    "\n",
    "\n",
    "lon = da.coords['lon']\n",
    "\n",
    "lon_idx = da.dims.index('lon')\n",
    "wrap_data, wrap_lon = add_cyclic_point(da.values, coord=lon, axis=lon_idx)\n",
    "levels = np.linspace(-60, 60, 13)\n",
    "\n",
    "pc = ax.contourf(wrap_lon,da.lat[:],wrap_data,levels=levels,cmap='BrBG')\n",
    "\n",
    "ax.add_feature(cf.COASTLINE.with_scale(\"50m\"), lw=0.5)\n",
    "ax.add_feature(cf.BORDERS.with_scale(\"50m\"), lw=0.3)\n",
    "ax.add_feature(cf.OCEAN, zorder=100, edgecolor=\"k\", lw=.5, facecolor='grey') \n",
    "\n",
    "cbar = plt.colorbar(pc, shrink=0.5, orientation=\"vertical\") \n",
    "cbar.ax.tick_params(labelsize=5) \n",
    "cbar.ax.set_ylabel('mm')\n",
    "cbar.ax.set_ylabel('mm')\n",
    "#cbar.ax.set_ylabel('mm')\n",
    "cbar.set_label(label='mm',size=5,weight='bold')\n",
    "plt.title('Asymmetry in preciptiation at 4C warming (after-before peak)',size=5,weight='bold')\n",
    "    "
   ]
  },
  {
   "cell_type": "code",
   "execution_count": null,
   "metadata": {},
   "outputs": [],
   "source": [
    "da.lat"
   ]
  },
  {
   "cell_type": "code",
   "execution_count": null,
   "metadata": {},
   "outputs": [],
   "source": [
    "p,ax=plt.subplots(3,1)\n",
    "p.set_size_inches(8,12)\n",
    "((Xsimp[tf,:,:])).plot(vmin=-.000005,vmax=.000005,cmap='BrBG',ax=ax[0])\n",
    "((Xsimp[tl,:,:])).plot(vmin=-.000005,vmax=.000005,cmap='BrBG',ax=ax[1])\n",
    "(3600*24*365*(Xsimp[tl,:,:]-Xsimp[tf,:,:])).plot(vmin=-100,vmax=100,cmap='BrBG',ax=ax[2])\n",
    "\n",
    "\n"
   ]
  },
  {
   "cell_type": "code",
   "execution_count": null,
   "metadata": {
    "colab": {
     "base_uri": "https://localhost:8080/",
     "height": 416
    },
    "id": "rblj-nTHw-G6",
    "outputId": "72c48c88-f5f4-490e-e5fe-8f02d1215b20"
   },
   "outputs": [],
   "source": [
    "\n",
    "outscl=prpatt.adjust_timescales(X,Xact,out.params,ts,f)\n",
    "outscl"
   ]
  },
  {
   "cell_type": "code",
   "execution_count": null,
   "metadata": {
    "id": "2V-afJrhGYBk"
   },
   "outputs": [],
   "source": [
    "Xscl=prpatt.imodel_filter_scl(outscl.params,out.params,f)\n",
    "Xsimscl=prpatt.rmodel(orgeof,Xscl)"
   ]
  },
  {
   "cell_type": "code",
   "execution_count": null,
   "metadata": {
    "colab": {
     "base_uri": "https://localhost:8080/",
     "height": 313
    },
    "id": "sd5i7hHxGzTd",
    "outputId": "cf9a44c8-0547-478d-b0dd-893b1179484f"
   },
   "outputs": [],
   "source": [
    "p1=Xsim.weighted(prpatt.wgt(X)).mean(('lat','lon')).plot()\n",
    "Xact=ds_1pc_anom.tas[0,:150,:,:]\n",
    "\n",
    "p2=Xact.weighted(prpatt.wgt(X)).mean(('lat','lon')).plot()\n",
    "p3=Xsimscl.weighted(prpatt.wgt(X)).mean(('lat','lon')).plot()\n",
    "\n",
    "plt.ylabel(r'(K)')\n",
    "plt.xlabel('year')\n",
    "plt.title('1pctCO2 global mean temperature response')\n",
    "plt.legend((p1[0],p2[0],p3[0]),['Emulated (IR only)','truth','Emulated (IR + quadratic transform)'])"
   ]
  },
  {
   "cell_type": "code",
   "execution_count": null,
   "metadata": {
    "colab": {
     "base_uri": "https://localhost:8080/",
     "height": 190
    },
    "id": "E0ALFZPCduv7",
    "outputId": "75140a11-d4c2-467b-d411-2be428c6bad8"
   },
   "outputs": [],
   "source": [
    "Xu1=prpatt.imodel_eof(out1.params, f)\n",
    "Xsim1=prpatt.rmodel(orgeof1,Xu)"
   ]
  },
  {
   "cell_type": "code",
   "execution_count": null,
   "metadata": {
    "id": "1aivdKYvGy7Z"
   },
   "outputs": [],
   "source": []
  },
  {
   "cell_type": "code",
   "execution_count": null,
   "metadata": {
    "id": "9xZLLJakd9eS"
   },
   "outputs": [],
   "source": [
    "Xsim.weighted(prpatt.wgt(X)).mean(('lat','lon')).plot()\n",
    "Xact.weighted(prpatt.wgt(X)).mean(('lat','lon')).plot()\n",
    "Xsim1.weighted(prpatt.wgt(X)).mean(('lat','lon')).plot()\n"
   ]
  },
  {
   "cell_type": "code",
   "execution_count": null,
   "metadata": {
    "id": "2XFLes1o3Rn1"
   },
   "outputs": [],
   "source": [
    "inma=prpatt.imodel_filter(out.params, f, F0=7.41, y0=1850)"
   ]
  },
  {
   "cell_type": "code",
   "execution_count": null,
   "metadata": {
    "id": "nkpKXjipA4sN"
   },
   "outputs": [],
   "source": [
    "plt.plot(f+np.square(f)/10)"
   ]
  },
  {
   "cell_type": "code",
   "execution_count": null,
   "metadata": {
    "id": "ZoNWAyb8-Gk5"
   },
   "outputs": [],
   "source": [
    "inma.plot.line(x='time')"
   ]
  }
 ],
 "metadata": {
  "colab": {
   "collapsed_sections": [],
   "include_colab_link": true,
   "machine_shape": "hm",
   "name": "CMIP6_spatial_emulator.ipynb",
   "provenance": []
  },
  "kernelspec": {
   "display_name": "METEOR",
   "language": "python",
   "name": "meteor"
  },
  "language_info": {
   "codemirror_mode": {
    "name": "ipython",
    "version": 3
   },
   "file_extension": ".py",
   "mimetype": "text/x-python",
   "name": "python",
   "nbconvert_exporter": "python",
   "pygments_lexer": "ipython3",
   "version": "3.8.13"
  }
 },
 "nbformat": 4,
 "nbformat_minor": 4
}
