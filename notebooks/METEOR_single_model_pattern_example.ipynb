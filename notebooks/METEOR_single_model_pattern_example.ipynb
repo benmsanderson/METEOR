{
 "cells": [
  {
   "cell_type": "code",
   "execution_count": 1,
   "metadata": {},
   "outputs": [],
   "source": [
    "import os\n",
    "import sys\n",
    "import matplotlib.pyplot as plt\n",
    "import numpy as np\n"
   ]
  },
  {
   "cell_type": "code",
   "execution_count": 2,
   "metadata": {},
   "outputs": [],
   "source": [
    "# NBVAL_IGNORE_OUTPUT\n",
    "sys.path.insert(0,os.path.join(os.getcwd(), '../'))\n",
    "module_path = os.path.abspath(os.path.join('../src'))\n",
    "if module_path not in sys.path:\n",
    "    sys.path.append(module_path)\n"
   ]
  },
  {
   "cell_type": "code",
   "execution_count": 3,
   "metadata": {},
   "outputs": [],
   "source": [
    "from meteor import MeteorPatternScaling, meteor_plot_utils"
   ]
  },
  {
   "cell_type": "code",
   "execution_count": 4,
   "metadata": {},
   "outputs": [],
   "source": [
    "from meteor.prpatt import global_mean"
   ]
  },
  {
   "cell_type": "code",
   "execution_count": 5,
   "metadata": {},
   "outputs": [],
   "source": [
    "test_data_dir = os.path.join('../tests/test-data')\n"
   ]
  },
  {
   "cell_type": "code",
   "execution_count": 6,
   "metadata": {},
   "outputs": [
    {
     "name": "stderr",
     "output_type": "stream",
     "text": [
      "Parameter nystart not in pamset. Using default value 1750\n",
      "Parameter nyend not in pamset. Using default value 2100\n",
      "Parameter emstart not in pamset. Using default value 1850\n",
      "/home/masan/gitrepos/METEOR/venv/lib/python3.9/site-packages/ciceroscm/input_handler.py:98: FutureWarning: The 'delim_whitespace' keyword in pd.read_csv is deprecated and will be removed in a future version. Use ``sep='\\s+'`` instead\n",
      "  df_input = pd.read_csv(\n",
      "/home/masan/gitrepos/METEOR/venv/lib/python3.9/site-packages/ciceroscm/input_handler.py:98: FutureWarning: The 'delim_whitespace' keyword in pd.read_csv is deprecated and will be removed in a future version. Use ``sep='\\s+'`` instead\n",
      "  df_input = pd.read_csv(\n",
      "/home/masan/gitrepos/METEOR/venv/lib/python3.9/site-packages/ciceroscm/input_handler.py:39: FutureWarning: The 'delim_whitespace' keyword in pd.read_csv is deprecated and will be removed in a future version. Use ``sep='\\s+'`` instead\n",
      "  df_gas = pd.read_csv(filename, delim_whitespace=True, index_col=0)\n",
      "/home/masan/gitrepos/METEOR/src/meteor/scm_forcer_engine.py:99: FutureWarning: ChainedAssignmentError: behaviour will change in pandas 3.0!\n",
      "You are setting values through chained assignment. Currently this works in certain cases, but when using Copy-on-Write (which will become the default behaviour in pandas 3.0) this will never work to update the original DataFrame or Series, because the intermediate object on which we are setting values will behave as a copy.\n",
      "A typical example is when you are setting values in a column of a DataFrame, like:\n",
      "\n",
      "df[\"col\"][row_indexer] = value\n",
      "\n",
      "Use `df.loc[row_indexer, \"col\"] = values` instead, to perform the assignment in a single step and ensure this keeps updating the original `df`.\n",
      "\n",
      "See the caveats in the documentation: https://pandas.pydata.org/pandas-docs/stable/user_guide/indexing.html#returning-a-view-versus-a-copy\n",
      "\n",
      "  self.concentrations_data.loc[self.emstart : self.emstart + 6].iloc[:] = (\n",
      "/home/masan/gitrepos/METEOR/src/meteor/scm_forcer_engine.py:99: SettingWithCopyWarning: \n",
      "A value is trying to be set on a copy of a slice from a DataFrame\n",
      "\n",
      "See the caveats in the documentation: https://pandas.pydata.org/pandas-docs/stable/user_guide/indexing.html#returning-a-view-versus-a-copy\n",
      "  self.concentrations_data.loc[self.emstart : self.emstart + 6].iloc[:] = (\n",
      "/home/masan/gitrepos/METEOR/src/meteor/scm_forcer_engine.py:102: FutureWarning: ChainedAssignmentError: behaviour will change in pandas 3.0!\n",
      "You are setting values through chained assignment. Currently this works in certain cases, but when using Copy-on-Write (which will become the default behaviour in pandas 3.0) this will never work to update the original DataFrame or Series, because the intermediate object on which we are setting values will behave as a copy.\n",
      "A typical example is when you are setting values in a column of a DataFrame, like:\n",
      "\n",
      "df[\"col\"][row_indexer] = value\n",
      "\n",
      "Use `df.loc[row_indexer, \"col\"] = values` instead, to perform the assignment in a single step and ensure this keeps updating the original `df`.\n",
      "\n",
      "See the caveats in the documentation: https://pandas.pydata.org/pandas-docs/stable/user_guide/indexing.html#returning-a-view-versus-a-copy\n",
      "\n",
      "  self.emissions_data.loc[self.emstart : self.emstart + 6].iloc[:] = (\n",
      "/home/masan/gitrepos/METEOR/src/meteor/scm_forcer_engine.py:102: SettingWithCopyWarning: \n",
      "A value is trying to be set on a copy of a slice from a DataFrame\n",
      "\n",
      "See the caveats in the documentation: https://pandas.pydata.org/pandas-docs/stable/user_guide/indexing.html#returning-a-view-versus-a-copy\n",
      "  self.emissions_data.loc[self.emstart : self.emstart + 6].iloc[:] = (\n",
      "Parameter conc_run is not used. Please check if you have a typo\n",
      "Parameter conc_run is not used. Please check if you have a typo\n",
      "Parameter qbmb not in pamset. Using default value 0.0\n",
      "Parameter qo3 not in pamset. Using default value 0.5\n",
      "Parameter qdirso2 not in pamset. Using default value -0.36\n",
      "Parameter qindso2 not in pamset. Using default value -0.97\n",
      "Parameter qbc not in pamset. Using default value 0.16\n",
      "Parameter qoc not in pamset. Using default value -0.08\n",
      "Parameter qh2o_ch4 not in pamset. Using default value 0.091915\n",
      "Parameter ref_yr not in pamset. Using default value 2010\n",
      "Parameter beta_f not in pamset. Using default value 0.287\n",
      "Parameter lifetime_mode is not used. Please check if you have a typo\n",
      "Parameter conc_run is not used. Please check if you have a typo\n",
      "Parameter lifetime_mode is not used. Please check if you have a typo\n",
      "Parameter conc_run is not used. Please check if you have a typo\n",
      "Parameter qbmb not in pamset. Using default value 0.0\n",
      "Parameter qo3 not in pamset. Using default value 0.5\n",
      "Parameter qdirso2 not in pamset. Using default value -0.36\n",
      "Parameter qindso2 not in pamset. Using default value -0.97\n",
      "Parameter qbc not in pamset. Using default value 0.16\n",
      "Parameter qoc not in pamset. Using default value -0.08\n",
      "Parameter qh2o_ch4 not in pamset. Using default value 0.091915\n",
      "Parameter ref_yr not in pamset. Using default value 2010\n",
      "Parameter beta_f not in pamset. Using default value 0.287\n"
     ]
    },
    {
     "name": "stdout",
     "output_type": "stream",
     "text": [
      "11\n",
      "12\n",
      "113\n",
      "114\n",
      "115\n",
      "22\n",
      "141\n",
      "123\n",
      "142\n",
      "11\n",
      "12\n",
      "113\n",
      "114\n",
      "115\n",
      "22\n",
      "141\n",
      "123\n",
      "142\n"
     ]
    }
   ],
   "source": [
    "# NBVAL_IGNORE_OUTPUT\n",
    "canesm_basic_pattern = MeteorPatternScaling(\n",
    "        \"pdrmip-CanESM2-basic\",\n",
    "        {\"tas\": 2, \"pr\": 2},\n",
    "        lambda exp: os.path.join(test_data_dir, f\"pdrmip-{exp}_T42_ANN.nc\"),\n",
    "        exp_list=[\"base\", \"co2x2\"],\n",
    "    )\n",
    "\n"
   ]
  },
  {
   "cell_type": "markdown",
   "metadata": {},
   "source": [
    "Plot reconstructions of the pulse-response function"
   ]
  },
  {
   "cell_type": "code",
   "execution_count": 7,
   "metadata": {},
   "outputs": [
    {
     "ename": "SyntaxError",
     "evalue": "invalid syntax (1869968372.py, line 4)",
     "output_type": "error",
     "traceback": [
      "\u001b[0;36m  Cell \u001b[0;32mIn[7], line 4\u001b[0;36m\u001b[0m\n\u001b[0;31m    meteor_plot_utils.plot_global_mean_values(canesm_basic_pattern, ax2,'pr','co2x2')\u001b[0m\n\u001b[0m    ^\u001b[0m\n\u001b[0;31mSyntaxError\u001b[0m\u001b[0;31m:\u001b[0m invalid syntax\n"
     ]
    }
   ],
   "source": [
    "# NBVAL_IGNORE_OUTPUT\n",
    "f, (ax1, ax2)=plt.subplots(1,2,figsize=[10,5])\n",
    "meteor_plot_utils.plot_global_mean_values(canesm_basic_pattern, ax1,'tas','co2x2')\n",
    "meteor_plot_utils.plot_global_mean_values(canesm_basic_pattern, ax2,'pr','co2x2')\n"
   ]
  },
  {
   "cell_type": "code",
   "execution_count": null,
   "metadata": {},
   "outputs": [],
   "source": [
    "# NBVAL_IGNORE_OUTPUT\n",
    "#plot spatial patterns associated with each mode\n",
    "f, ax = plt.subplots(2,2,figsize=[10,8])\n",
    "ax[0,0].pcolor(canesm_basic_pattern.pattern_dict['co2x2']['tas'][\"orgeof\"][\"v\"][0, :, :],cmap=\"bwr\",vmin=-2,vmax=2)\n",
    "ax[0,0].set_title('TAS Mode 1 - Pattern')\n",
    "\n",
    "ax[1,0].pcolor(canesm_basic_pattern.pattern_dict['co2x2']['tas'][\"orgeof\"][\"v\"][1, :, :],cmap=\"bwr\",vmin=-2,vmax=2)\n",
    "ax[1,0].set_title('TAS Mode 2 - Pattern')\n",
    "\n",
    "ax[0,1].plot(canesm_basic_pattern.pattern_dict['co2x2']['tas'][\"orgeof\"][\"u\"][:,0],label='original')\n",
    "ax[0,1].plot(canesm_basic_pattern.pattern_dict['co2x2']['tas'][\"neweof\"][\"u\"][:,0],label='fit')\n",
    "ax[0,1].set_title('TAS Mode 1 - PC')\n",
    "ax[0,1].legend()\n",
    "ax[1,1].plot(canesm_basic_pattern.pattern_dict['co2x2']['tas'][\"orgeof\"][\"u\"][:,1],label='original')\n",
    "ax[1,1].plot(canesm_basic_pattern.pattern_dict['co2x2']['tas'][\"neweof\"][\"u\"][:,1],label='fit')\n",
    "ax[1,1].set_title('TAS Mode 2 - PC')\n",
    "ax[1,1].legend()\n",
    "plt.tight_layout()"
   ]
  },
  {
   "cell_type": "code",
   "execution_count": null,
   "metadata": {},
   "outputs": [],
   "source": [
    "# NBVAL_IGNORE_OUTPUT\n",
    "#plot spatial patterns associated with each mode\n",
    "f, ax = plt.subplots(2,2,figsize=[10,8])\n",
    "ax[0,0].pcolor(canesm_basic_pattern.pattern_dict['co2x2']['pr'][\"orgeof\"][\"v\"][0, :, :],cmap=\"bwr\",vmin=-30,vmax=30)\n",
    "ax[0,0].set_title('PR Mode 1 - Pattern')\n",
    "\n",
    "ax[1,0].pcolor(canesm_basic_pattern.pattern_dict['co2x2']['pr'][\"orgeof\"][\"v\"][1, :, :],cmap=\"bwr\",vmin=-30,vmax=30)\n",
    "ax[1,0].set_title('PR Mode 2 - Pattern')\n",
    "\n",
    "ax[0,1].plot(canesm_basic_pattern.pattern_dict['co2x2']['pr'][\"orgeof\"][\"u\"][:,0],label='original')\n",
    "ax[0,1].plot(canesm_basic_pattern.pattern_dict['co2x2']['pr'][\"neweof\"][\"u\"][:,0],label='fit')\n",
    "ax[0,1].set_title('PR Mode 1 - PC')\n",
    "ax[0,1].legend()\n",
    "ax[1,1].plot(canesm_basic_pattern.pattern_dict['co2x2']['pr'][\"orgeof\"][\"u\"][:,1],label='original')\n",
    "ax[1,1].plot(canesm_basic_pattern.pattern_dict['co2x2']['pr'][\"neweof\"][\"u\"][:,1],label='fit')\n",
    "ax[1,1].set_title('PR Mode 2 - PC')\n",
    "ax[1,1].legend()\n",
    "plt.tight_layout()\n"
   ]
  },
  {
   "cell_type": "markdown",
   "metadata": {},
   "source": [
    "Model test"
   ]
  },
  {
   "cell_type": "code",
   "execution_count": null,
   "metadata": {},
   "outputs": [],
   "source": [
    "# NBVAL_IGNORE_OUTPUT\n",
    "#define a gaussian forcing profile\n",
    "\n",
    "f=1*np.exp(-np.square(np.arange(0,500)-150)/5000)\n",
    "\n"
   ]
  },
  {
   "cell_type": "code",
   "execution_count": null,
   "metadata": {},
   "outputs": [],
   "source": [
    "#run the emulator\n",
    "\n",
    "mdl_out=canesm_basic_pattern.predict_from_forcing_profile(f, 'tas', exp=\"co2x2\")"
   ]
  },
  {
   "cell_type": "code",
   "execution_count": null,
   "metadata": {},
   "outputs": [],
   "source": [
    "# NBVAL_IGNORE_OUTPUT\n",
    "#plot global mean forcing and temperature to illustrate lagged response\n",
    "gmt=global_mean(mdl_out)\n",
    "\n",
    "fig, ax1 = plt.subplots()\n",
    "\n",
    "color = 'tab:red'\n",
    "ax1.set_xlabel('year')\n",
    "ax1.set_ylabel('$Wm^{-2}$', color=color)\n",
    "ax1.plot(f, color=color)\n",
    "ax1.tick_params(axis='y', labelcolor=color)\n",
    "\n",
    "ax2 = ax1.twinx()  # instantiate a second axes that shares the same x-axis\n",
    "\n",
    "color = 'tab:blue'\n",
    "ax2.set_ylabel('GMTS', color=color)  # we already handled the x-label with ax1\n",
    "ax2.plot(gmt, color=color)\n",
    "ax2.axhline(0,linestyle=':')\n",
    "ax2.tick_params(axis='y', labelcolor=color)\n",
    "\n",
    "fig.tight_layout()  # otherwise the right y-label is slightly clipped\n",
    "plt.show()\n"
   ]
  },
  {
   "cell_type": "code",
   "execution_count": null,
   "metadata": {},
   "outputs": [],
   "source": []
  },
  {
   "cell_type": "code",
   "execution_count": null,
   "metadata": {},
   "outputs": [],
   "source": []
  },
  {
   "cell_type": "code",
   "execution_count": null,
   "metadata": {},
   "outputs": [],
   "source": []
  }
 ],
 "metadata": {
  "kernelspec": {
   "display_name": "Python 3 (ipykernel)",
   "language": "python",
   "name": "python3"
  },
  "language_info": {
   "codemirror_mode": {
    "name": "ipython",
    "version": 3
   },
   "file_extension": ".py",
   "mimetype": "text/x-python",
   "name": "python",
   "nbconvert_exporter": "python",
   "pygments_lexer": "ipython3",
   "version": "3.9.5"
  }
 },
 "nbformat": 4,
 "nbformat_minor": 4
}
